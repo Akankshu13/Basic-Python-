{
 "cells": [
  {
   "cell_type": "markdown",
   "id": "2cdb7b82",
   "metadata": {},
   "source": [
    "# File handling"
   ]
  },
  {
   "cell_type": "markdown",
   "id": "0e957d41",
   "metadata": {},
   "source": [
    "### File handling is an integral part of programming. File handling in Python is simplified with built-in methods, which include creating, opening, and closing files. While files are open, Python additionally allows performing various file operations, such as reading, writing, and appending information."
   ]
  },
  {
   "cell_type": "markdown",
   "id": "83b90fb7",
   "metadata": {},
   "source": [
    "# Types of file handling techniques"
   ]
  },
  {
   "cell_type": "markdown",
   "id": "79999b21",
   "metadata": {},
   "source": [
    "1. r: open an existing file for a read operation.\n",
    "\n",
    "2. w: open an existing file for a write operation. If the file already contains some data then it will be overridden but if the file is not present then it creates the file as well.\n",
    "\n",
    "3. a:  open an existing file for append operation. It won’t override existing data.\n",
    " \n",
    "4. r+:  To read and write data into the file. The previous data in the file will be overridden.\n",
    "\n",
    "5. w+: To write and read data. It will override existing data.\n",
    "\n",
    "6. a+: To append and read data from the file. It won’t override existing data."
   ]
  },
  {
   "cell_type": "markdown",
   "id": "7d62f9b3",
   "metadata": {},
   "source": [
    "# Inshort- In file handling we can create a .txt file manually and insert data into it:"
   ]
  },
  {
   "cell_type": "markdown",
   "id": "ac36511f",
   "metadata": {},
   "source": [
    " The syntax for file handling : [we can do file handling in two ways 1. Normal way 2. real time]\n",
    "\n",
    " 1.Normal syntax for file handling: [variable = open(location , extention)]\n",
    "                                        # operation"
   ]
  },
  {
   "cell_type": "markdown",
   "id": "148f2cec",
   "metadata": {},
   "source": [
    "# w: write the data"
   ]
  },
  {
   "cell_type": "code",
   "execution_count": 2,
   "id": "6c36a61b",
   "metadata": {},
   "outputs": [],
   "source": [
    "# If the file not there means it is going to create the file and insert data into it "
   ]
  },
  {
   "cell_type": "code",
   "execution_count": 8,
   "id": "feee2bce",
   "metadata": {},
   "outputs": [],
   "source": [
    "a=open('db.txt','w')\n",
    "a.write(\"I am Akanksha\")\n",
    "a.close()                     #close is used to come back\n"
   ]
  },
  {
   "cell_type": "code",
   "execution_count": 10,
   "id": "0d3c03ff",
   "metadata": {},
   "outputs": [],
   "source": [
    "b=open('D:\\\\Top Mentor\\\\Python\\\\27May notes file and execption handling\\\\abc.txt','w') \n",
    "#use \\\\ or / for windows, here we enter the location when we want to create the file\n",
    "\n",
    "b.write('Am Come back')\n",
    "b.close()"
   ]
  },
  {
   "cell_type": "markdown",
   "id": "99ffa402",
   "metadata": {},
   "source": [
    "# r: read the file"
   ]
  },
  {
   "cell_type": "code",
   "execution_count": 19,
   "id": "92566e6c",
   "metadata": {},
   "outputs": [
    {
     "name": "stdout",
     "output_type": "stream",
     "text": [
      "come\n"
     ]
    }
   ],
   "source": [
    "a=open('D:\\\\Top Mentor\\\\Python\\\\27May notes file and execption handling\\\\akk.txt',  'r')\n",
    "\n",
    "#here file are already present so we only read the file\n",
    "print(a.read())"
   ]
  },
  {
   "cell_type": "code",
   "execution_count": 21,
   "id": "1baba5b7",
   "metadata": {},
   "outputs": [],
   "source": [
    "a=open('D:\\\\Top Mentor\\\\Python\\\\27May notes file and execption handling\\\\akk.txt',  'w')\n",
    "\n",
    "#if we write w, it will change the previos data\n",
    "a.write(\"hello python\")\n",
    "a.close()"
   ]
  },
  {
   "cell_type": "code",
   "execution_count": 22,
   "id": "604aba21",
   "metadata": {},
   "outputs": [
    {
     "name": "stdout",
     "output_type": "stream",
     "text": [
      "hello python\n"
     ]
    }
   ],
   "source": [
    "a=open('D:\\\\Top Mentor\\\\Python\\\\27May notes file and execption handling\\\\akk.txt',  'r')\n",
    "\n",
    "#Now we read the file\n",
    "print(a.read())"
   ]
  },
  {
   "cell_type": "markdown",
   "id": "b6251c17",
   "metadata": {},
   "source": [
    "# Difference between w and a"
   ]
  },
  {
   "cell_type": "markdown",
   "id": "c3be6d90",
   "metadata": {},
   "source": [
    "Only w will create the file if not there , a will work if the file there \n",
    "\n",
    "w : will write the data once , if the file having the data means it is going to over ride the data.\n",
    "\n",
    "a: is used to add the data to the file:"
   ]
  },
  {
   "cell_type": "code",
   "execution_count": 13,
   "id": "ce79a067",
   "metadata": {},
   "outputs": [],
   "source": [
    "# w example\n",
    "\n",
    "a=open('D:\\\\Top Mentor\\\\Python\\\\27May notes file and execption handling\\\\am.txt','w')\n",
    "a.write(\"Hello Heollooo python\")                  #write the data\n",
    "a.close()"
   ]
  },
  {
   "cell_type": "code",
   "execution_count": 19,
   "id": "4a2388dc",
   "metadata": {},
   "outputs": [],
   "source": [
    "# if we want to add the data using w\n",
    "a=open('D:\\\\Top Mentor\\\\Python\\\\27May notes file and execption handling\\\\am.txt','w')\n",
    "a.write(\"Hello, I'm learning Python\")                  #here we want to add the data\n",
    "a.close()\n"
   ]
  },
  {
   "cell_type": "code",
   "execution_count": 20,
   "id": "8985c548",
   "metadata": {},
   "outputs": [
    {
     "name": "stdout",
     "output_type": "stream",
     "text": [
      "Hello, I'm learning Python\n"
     ]
    }
   ],
   "source": [
    "# now we want to read it what add\n",
    "a=open('D:\\\\Top Mentor\\\\Python\\\\27May notes file and execption handling\\\\am.txt','r')\n",
    "print(a.read())            #see in output it overridden the data \n"
   ]
  },
  {
   "cell_type": "code",
   "execution_count": 22,
   "id": "6b6f8806",
   "metadata": {},
   "outputs": [],
   "source": [
    "#create another file\n",
    "\n",
    "b=open('D:\\\\Top Mentor\\\\Python\\\\27May notes file and execption handling\\\\ambn.txt','w')\n",
    "b.write(\"Hello\")\n",
    "b.close()"
   ]
  },
  {
   "cell_type": "code",
   "execution_count": 24,
   "id": "db01d876",
   "metadata": {},
   "outputs": [],
   "source": [
    "# here we add the data using w\n",
    "b=open('D:\\\\Top Mentor\\\\Python\\\\27May notes file and execption handling\\\\ambn.txt','w')\n",
    "b.write(\"I'm learning Python \\n After that I will learn Numpy.\")                  #here we want to add the data\n",
    "b.close()                                                                          # \\n for changing the line"
   ]
  },
  {
   "cell_type": "code",
   "execution_count": 25,
   "id": "ef9b3b94",
   "metadata": {},
   "outputs": [
    {
     "name": "stdout",
     "output_type": "stream",
     "text": [
      "I'm learning Python \n",
      " After that I will learn Numpy.\n"
     ]
    }
   ],
   "source": [
    "# now we want to read the data\n",
    "\n",
    "b=open('D:\\\\Top Mentor\\\\Python\\\\27May notes file and execption handling\\\\ambn.txt','r')\n",
    "print(b.read())                   #see again it overridden the data"
   ]
  },
  {
   "cell_type": "code",
   "execution_count": 26,
   "id": "30218795",
   "metadata": {},
   "outputs": [],
   "source": [
    "#now we use a to add the data\n",
    "\n",
    "# here we add the data using w\n",
    "b=open('D:\\\\Top Mentor\\\\Python\\\\27May notes file and execption handling\\\\ambn.txt','a')\n",
    "b.write(\"\\n At the end, I will make projects.\")                  #here we want to add the data with a coomand\n",
    "b.close()    \n"
   ]
  },
  {
   "cell_type": "code",
   "execution_count": 27,
   "id": "992854b1",
   "metadata": {},
   "outputs": [
    {
     "name": "stdout",
     "output_type": "stream",
     "text": [
      "I'm learning Python \n",
      " After that I will learn Numpy.\n",
      " At the end, I will make projects.\n"
     ]
    }
   ],
   "source": [
    "# now we want to read the data\n",
    "\n",
    "b=open('D:\\\\Top Mentor\\\\Python\\\\27May notes file and execption handling\\\\ambn.txt','r')\n",
    "print(b.read())                                 # a did not overridden the data"
   ]
  },
  {
   "cell_type": "markdown",
   "id": "484ab7ec",
   "metadata": {},
   "source": [
    "# Difference between readline and readlines"
   ]
  },
  {
   "cell_type": "markdown",
   "id": "406c8138",
   "metadata": {},
   "source": [
    "readline : used to read a small amount of data:\n",
    "\n",
    "readlines : used to read all the data:        "
   ]
  },
  {
   "cell_type": "code",
   "execution_count": 32,
   "id": "fca1eec1",
   "metadata": {},
   "outputs": [
    {
     "name": "stdout",
     "output_type": "stream",
     "text": [
      "Data science is an interdisciplinary academic field [1] that uses statistics, scientific computing, scientific methods, processes, algorithms and systems to extract or extrapolate knowledge and insights from noisy, structured, and unstructured data.[2]\n",
      "\n"
     ]
    }
   ],
   "source": [
    "#using readline\n",
    "\n",
    "b=open('D:\\\\Top Mentor\\\\Python\\\\27May notes file and execption handling\\\\data.txt','r')\n",
    "print(b.readline())"
   ]
  },
  {
   "cell_type": "code",
   "execution_count": 33,
   "id": "4f0424c6",
   "metadata": {},
   "outputs": [
    {
     "name": "stdout",
     "output_type": "stream",
     "text": [
      "['Data science is an interdisciplinary academic field [1] that uses statistics, scientific computing, scientific methods, processes, algorithms and systems to extract or extrapolate knowledge and insights from noisy, structured, and unstructured data.[2]\\n', '\\n', 'Data science also integrates domain knowledge from the underlying application domain (e.g., natural sciences, information technology, and medicine).[3] Data science is multifaceted and can be described as a science, a research paradigm, a research method, a discipline, a workflow, and a profession.[4]\\n', '\\n', 'Data science is a \"concept to unify statistics, data analysis, informatics, and their related methods\" to \"understand and analyze actual phenomena\" with data.[5] It uses techniques and theories drawn from many fields within the context of mathematics, statistics, computer science, information science, and domain knowledge.[6] However, data science is different from computer science and information science. Turing Award winner Jim Gray imagined data science as a \"fourth paradigm\" of science (empirical, theoretical, computational, and now data-driven) and asserted that \"everything about science is changing because of the impact of information technology\" and the data deluge.[7][8]\\n', '\\n', 'A data scientist is a professional who creates programming code and combines it with statistical knowledge to create insights from data.[9]']\n"
     ]
    }
   ],
   "source": [
    "#using readlines\n",
    "\n",
    "b=open('D:\\\\Top Mentor\\\\Python\\\\27May notes file and execption handling\\\\data.txt','r')\n",
    "print(b.readlines())"
   ]
  },
  {
   "cell_type": "markdown",
   "id": "3c96ac07",
   "metadata": {},
   "source": [
    "# How team works in the companies with this technique:"
   ]
  },
  {
   "cell_type": "markdown",
   "id": "b2c780d6",
   "metadata": {},
   "source": [
    "w : write the data \n",
    "    \n",
    "    syntax : [with open(location , mode) as variable]\n",
    "                                 # logic "
   ]
  },
  {
   "cell_type": "code",
   "execution_count": 35,
   "id": "8f12072a",
   "metadata": {},
   "outputs": [],
   "source": [
    "with open('D:\\\\Top Mentor\\\\Python\\\\27May notes file and execption handling\\\\aka.txt','w')as f:\n",
    "    f.write(\"Hello, I am AK\")\n",
    "    f.close()"
   ]
  },
  {
   "cell_type": "code",
   "execution_count": 36,
   "id": "f20ec702",
   "metadata": {},
   "outputs": [
    {
     "name": "stdout",
     "output_type": "stream",
     "text": [
      "Hello, I am AK\n"
     ]
    }
   ],
   "source": [
    "with open('D:\\\\Top Mentor\\\\Python\\\\27May notes file and execption handling\\\\aka.txt','r')as f:\n",
    "    \n",
    "    print(f.read())"
   ]
  },
  {
   "cell_type": "code",
   "execution_count": 37,
   "id": "41de3f07",
   "metadata": {},
   "outputs": [],
   "source": [
    "#add data\n",
    "\n",
    "with open('D:\\\\Top Mentor\\\\Python\\\\27May notes file and execption handling\\\\aka.txt','a')as f:\n",
    "    f.write(\"\\nI'm in Delhi\")\n",
    "    f.close()"
   ]
  },
  {
   "cell_type": "code",
   "execution_count": 38,
   "id": "91e66102",
   "metadata": {},
   "outputs": [
    {
     "name": "stdout",
     "output_type": "stream",
     "text": [
      "Hello, I am AK\n",
      "I'm in Delhi\n"
     ]
    }
   ],
   "source": [
    "with open('D:\\\\Top Mentor\\\\Python\\\\27May notes file and execption handling\\\\aka.txt','r')as f:\n",
    "    \n",
    "    print(f.read())"
   ]
  },
  {
   "cell_type": "code",
   "execution_count": 39,
   "id": "ab77f949",
   "metadata": {},
   "outputs": [
    {
     "name": "stdout",
     "output_type": "stream",
     "text": [
      "kamal\n",
      "got\n"
     ]
    }
   ],
   "source": [
    "# we use \\n for change line\n",
    "\n",
    "a= 'kamal\\ngot'\n",
    "print(a)"
   ]
  },
  {
   "cell_type": "code",
   "execution_count": 47,
   "id": "44fa83f8",
   "metadata": {},
   "outputs": [
    {
     "name": "stdout",
     "output_type": "stream",
     "text": [
      "kamal\tGot Mobile\n"
     ]
    }
   ],
   "source": [
    "# \\t for one tab space\n",
    "\n",
    "a = 'kamal\\tGot Mobile'\n",
    "print(a)"
   ]
  },
  {
   "cell_type": "code",
   "execution_count": null,
   "id": "6f9f80e2",
   "metadata": {},
   "outputs": [],
   "source": []
  }
 ],
 "metadata": {
  "kernelspec": {
   "display_name": "Python 3 (ipykernel)",
   "language": "python",
   "name": "python3"
  },
  "language_info": {
   "codemirror_mode": {
    "name": "ipython",
    "version": 3
   },
   "file_extension": ".py",
   "mimetype": "text/x-python",
   "name": "python",
   "nbconvert_exporter": "python",
   "pygments_lexer": "ipython3",
   "version": "3.10.9"
  }
 },
 "nbformat": 4,
 "nbformat_minor": 5
}
