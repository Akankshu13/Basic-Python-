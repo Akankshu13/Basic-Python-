{
 "cells": [
  {
   "cell_type": "markdown",
   "id": "70f8e6b2",
   "metadata": {},
   "source": [
    "# Lambda Function\n",
    "\n",
    "Python Lambda function is known as the anonymous function that is defined without a name. Python allows us to not declare the function in the standard manner, i.e., by using the def keyword. Rather, the anonymous functions are declared by using the lambda keyword. However, Lambda functions can accept any number of arguments, but they can return only one value in the form of expression.\n",
    "\n",
    "In short, lambda function is a special type of function without the function name and it is also known as anonympous function means no function name.\n",
    "\n",
    "Syntax: [lambda arguments : expression]\n",
    "\n",
    " Arguments- any value passed to the lambda function.\n",
    " \n",
    " Expression- expression is executed and return.\n",
    " "
   ]
  },
  {
   "cell_type": "markdown",
   "id": "98ccd0b4",
   "metadata": {},
   "source": [
    "# Difference between function & lambda\n",
    "\n",
    "Both function & lambda function is same but lambda function has no function name.\n",
    "\n",
    "In Lambda we write code in a single line."
   ]
  },
  {
   "cell_type": "markdown",
   "id": "654ad57e",
   "metadata": {},
   "source": [
    "# Lambda function examples-"
   ]
  },
  {
   "cell_type": "markdown",
   "id": "321508b7",
   "metadata": {},
   "source": [
    "## Printing hello python"
   ]
  },
  {
   "cell_type": "code",
   "execution_count": 1,
   "id": "2843501c",
   "metadata": {},
   "outputs": [
    {
     "name": "stdout",
     "output_type": "stream",
     "text": [
      "Hello Python\n"
     ]
    }
   ],
   "source": [
    "a= lambda:print(\"Hello Python\") \n",
    "# here we define a lambda function and we assigned its value to vairable a.\n",
    "a() #for execution we need to call it.\n"
   ]
  },
  {
   "cell_type": "markdown",
   "id": "ca578877",
   "metadata": {},
   "source": [
    "Note-\n",
    "In this function there is no argument"
   ]
  },
  {
   "cell_type": "markdown",
   "id": "f71fe6ca",
   "metadata": {},
   "source": [
    "## Additon"
   ]
  },
  {
   "cell_type": "code",
   "execution_count": 3,
   "id": "bb1eaa08",
   "metadata": {},
   "outputs": [
    {
     "data": {
      "text/plain": [
       "50"
      ]
     },
     "execution_count": 3,
     "metadata": {},
     "output_type": "execute_result"
    }
   ],
   "source": [
    "add=lambda x,y : x+y\n",
    "#here we define a lambda function and assigned its value to add\n",
    "# Here,x and y after the keyword lambda specifies that lambda function accepts the arguments named a,b\n",
    "add(10,40) #here we call the function by passing two values in it."
   ]
  },
  {
   "cell_type": "code",
   "execution_count": 5,
   "id": "59eb6dc3",
   "metadata": {},
   "outputs": [
    {
     "data": {
      "text/plain": [
       "80"
      ]
     },
     "execution_count": 5,
     "metadata": {},
     "output_type": "execute_result"
    }
   ],
   "source": [
    "add=lambda x,y:x+y #creating lambda function and passing it to add\n",
    "a=20 #pass the value we want to add\n",
    "b=60\n",
    "add(a,b) #we also did in this way "
   ]
  },
  {
   "cell_type": "markdown",
   "id": "ca411140",
   "metadata": {},
   "source": [
    "## Cube of a number"
   ]
  },
  {
   "cell_type": "code",
   "execution_count": 6,
   "id": "b23ac480",
   "metadata": {},
   "outputs": [
    {
     "data": {
      "text/plain": [
       "343"
      ]
     },
     "execution_count": 6,
     "metadata": {},
     "output_type": "execute_result"
    }
   ],
   "source": [
    "cube=lambda x : x*x*x \n",
    "\n",
    "cube(7) #here we call the lambda function"
   ]
  },
  {
   "cell_type": "markdown",
   "id": "2472285a",
   "metadata": {},
   "source": [
    "# Power"
   ]
  },
  {
   "cell_type": "code",
   "execution_count": 7,
   "id": "18b9ec7e",
   "metadata": {},
   "outputs": [
    {
     "data": {
      "text/plain": [
       "256"
      ]
     },
     "execution_count": 7,
     "metadata": {},
     "output_type": "execute_result"
    }
   ],
   "source": [
    "sol=lambda x : pow(x,x) #here in expression we use pow(x,x) that means x to the power x\n",
    "\n",
    "sol(4)"
   ]
  },
  {
   "cell_type": "code",
   "execution_count": 9,
   "id": "7ed97ebf",
   "metadata": {},
   "outputs": [
    {
     "data": {
      "text/plain": [
       "4"
      ]
     },
     "execution_count": 9,
     "metadata": {},
     "output_type": "execute_result"
    }
   ],
   "source": [
    "sol(2)"
   ]
  },
  {
   "cell_type": "code",
   "execution_count": 10,
   "id": "9d302704",
   "metadata": {},
   "outputs": [
    {
     "name": "stdout",
     "output_type": "stream",
     "text": [
      "Enter a number which power you want2\n"
     ]
    },
    {
     "data": {
      "text/plain": [
       "4"
      ]
     },
     "execution_count": 10,
     "metadata": {},
     "output_type": "execute_result"
    }
   ],
   "source": [
    "number =int(input(\"Enter a number which power you want\")) \n",
    "#here we take the input from user and assign it to the vairable number\n",
    "\n",
    "sol(number) #here we call the function"
   ]
  },
  {
   "cell_type": "markdown",
   "id": "2fdb32f9",
   "metadata": {},
   "source": [
    "# find minimum number"
   ]
  },
  {
   "cell_type": "code",
   "execution_count": 14,
   "id": "12991c15",
   "metadata": {},
   "outputs": [
    {
     "data": {
      "text/plain": [
       "40"
      ]
     },
     "execution_count": 14,
     "metadata": {},
     "output_type": "execute_result"
    }
   ],
   "source": [
    "minimum= lambda x,y : x if (x<y) else y\n",
    "\n",
    "\n",
    "minimum(40,76)"
   ]
  },
  {
   "cell_type": "code",
   "execution_count": 12,
   "id": "bdd1583c",
   "metadata": {},
   "outputs": [
    {
     "data": {
      "text/plain": [
       "30"
      ]
     },
     "execution_count": 12,
     "metadata": {},
     "output_type": "execute_result"
    }
   ],
   "source": [
    "minimum(50,30)"
   ]
  },
  {
   "cell_type": "markdown",
   "id": "ca798228",
   "metadata": {},
   "source": [
    "# Find maximum number"
   ]
  },
  {
   "cell_type": "code",
   "execution_count": 13,
   "id": "4825436a",
   "metadata": {},
   "outputs": [
    {
     "data": {
      "text/plain": [
       "76"
      ]
     },
     "execution_count": 13,
     "metadata": {},
     "output_type": "execute_result"
    }
   ],
   "source": [
    "maximum= lambda x,y : x if (x>y) else y\n",
    "\n",
    "maximum(40,76)"
   ]
  },
  {
   "cell_type": "markdown",
   "id": "22ec5cdf",
   "metadata": {},
   "source": [
    "# Write the table of 2 using function and lambda function"
   ]
  },
  {
   "cell_type": "markdown",
   "id": "088639d9",
   "metadata": {},
   "source": [
    "## using function"
   ]
  },
  {
   "cell_type": "code",
   "execution_count": 26,
   "id": "82f992d5",
   "metadata": {},
   "outputs": [
    {
     "name": "stdout",
     "output_type": "stream",
     "text": [
      "5 * 1 = 5\n",
      "5 * 2 = 10\n",
      "5 * 3 = 15\n",
      "5 * 4 = 20\n",
      "5 * 5 = 25\n",
      "5 * 6 = 30\n",
      "5 * 7 = 35\n",
      "5 * 8 = 40\n",
      "5 * 9 = 45\n",
      "5 * 10 = 50\n"
     ]
    }
   ],
   "source": [
    "def table(number): \n",
    "#here we create a function using def keyword and also create a function name table and assign a argument number\n",
    "     for i in range(1,11): \n",
    "        \n",
    "#we want to print the table so we create a for loop range (1,11), we use 1 bcz we want to start from 1 and 11 bcz it print(n-1)\n",
    "#means (11-1)=10\n",
    "        \n",
    "           print(number, \"*\", i, \"=\", number * i, )\n",
    "#here we write the expression which we want to print, we use (\"\") where we want to print the same. \n",
    "\n",
    "\n",
    "\n",
    "table(5) #here we call the function"
   ]
  },
  {
   "cell_type": "code",
   "execution_count": 27,
   "id": "381f930f",
   "metadata": {},
   "outputs": [
    {
     "name": "stdout",
     "output_type": "stream",
     "text": [
      "Enter a number which table you want to print7\n",
      "7 * 1 = 7\n",
      "7 * 2 = 14\n",
      "7 * 3 = 21\n",
      "7 * 4 = 28\n",
      "7 * 5 = 35\n",
      "7 * 6 = 42\n",
      "7 * 7 = 49\n",
      "7 * 8 = 56\n",
      "7 * 9 = 63\n",
      "7 * 10 = 70\n"
     ]
    }
   ],
   "source": [
    "#take input from user\n",
    "\n",
    "def table(number):\n",
    "     for i in range(1,11):\n",
    "        print(number, \"*\", i, \"=\", number * i, )\n",
    "        \n",
    "\n",
    "number=int(input(\"Enter a number which table you want to print\"))\n",
    "#here we take the input from user\n",
    "\n",
    "\n",
    "table(number)#call the function by passing the argument named number"
   ]
  },
  {
   "cell_type": "markdown",
   "id": "2e0ad2fa",
   "metadata": {},
   "source": [
    "## Using Lambda function"
   ]
  },
  {
   "cell_type": "code",
   "execution_count": 39,
   "id": "cba653ff",
   "metadata": {},
   "outputs": [
    {
     "name": "stdout",
     "output_type": "stream",
     "text": [
      "2 * 1 = 2\n",
      "2 * 2 = 4\n",
      "2 * 3 = 6\n",
      "2 * 4 = 8\n",
      "2 * 5 = 10\n",
      "2 * 6 = 12\n",
      "2 * 7 = 14\n",
      "2 * 8 = 16\n",
      "2 * 9 = 18\n",
      "2 * 10 = 20\n"
     ]
    }
   ],
   "source": [
    "sol = lambda x,y : x * y \n",
    "#we use two argument x and y where x hold the value of number which table we want to print and y hold the value of i which itrate\n",
    "#the value from (1,11) one by one.\n",
    "\n",
    "number=2  #here we passed the value which table we want to print.\n",
    "          # and assigned it to the vairable number, we also use (x) in place of number.\n",
    "\n",
    "for i in range(1,11): #here we create a for loop\n",
    "    \n",
    "    print(number, \"*\",i, \"=\", sol(number,i))#here we print and call the function with the help of  [sol(number,i)]"
   ]
  },
  {
   "cell_type": "code",
   "execution_count": 35,
   "id": "9749e3fc",
   "metadata": {},
   "outputs": [
    {
     "name": "stdout",
     "output_type": "stream",
     "text": [
      "5 * 1 = 5\n",
      "5 * 2 = 10\n",
      "5 * 3 = 15\n",
      "5 * 4 = 20\n",
      "5 * 5 = 25\n",
      "5 * 6 = 30\n",
      "5 * 7 = 35\n",
      "5 * 8 = 40\n",
      "5 * 9 = 45\n",
      "5 * 10 = 50\n"
     ]
    },
    {
     "data": {
      "text/plain": [
       "50"
      ]
     },
     "execution_count": 35,
     "metadata": {},
     "output_type": "execute_result"
    }
   ],
   "source": [
    "sol = lambda x,y : x * y\n",
    "numbers=5\n",
    "\n",
    "for i in range(1,11):\n",
    "    print(number, \"*\",i, \"=\", (numbers * i))\n",
    "    \n",
    "\n",
    "sol(numbers,i)"
   ]
  },
  {
   "cell_type": "code",
   "execution_count": 40,
   "id": "0c3c831b",
   "metadata": {},
   "outputs": [
    {
     "name": "stdout",
     "output_type": "stream",
     "text": [
      "Enter a number you want to print5\n",
      "5 * 1 = 5\n",
      "5 * 2 = 10\n",
      "5 * 3 = 15\n",
      "5 * 4 = 20\n",
      "5 * 5 = 25\n",
      "5 * 6 = 30\n",
      "5 * 7 = 35\n",
      "5 * 8 = 40\n",
      "5 * 9 = 45\n",
      "5 * 10 = 50\n"
     ]
    },
    {
     "data": {
      "text/plain": [
       "50"
      ]
     },
     "execution_count": 40,
     "metadata": {},
     "output_type": "execute_result"
    }
   ],
   "source": [
    "#taking input from user\n",
    "\n",
    "sol = lambda x,y : x * y\n",
    "num=int(input(\"Enter a number you want to print\"))    #here we take the input from user\n",
    "\n",
    "for i in range(1,11):\n",
    "    print(num, \"*\",i, \"=\", (num * i))\n",
    "    \n",
    "\n",
    "sol(num,i)"
   ]
  },
  {
   "cell_type": "markdown",
   "id": "3a60d055",
   "metadata": {},
   "source": [
    "#Note- Always define the variable which table you want to print before for loop"
   ]
  },
  {
   "cell_type": "markdown",
   "id": "8afe6d31",
   "metadata": {},
   "source": [
    "# Some program using function and Lambda function"
   ]
  },
  {
   "cell_type": "markdown",
   "id": "7ac8836a",
   "metadata": {},
   "source": [
    "## Adding two value"
   ]
  },
  {
   "cell_type": "code",
   "execution_count": 44,
   "id": "89c3b719",
   "metadata": {},
   "outputs": [
    {
     "name": "stdout",
     "output_type": "stream",
     "text": [
      "sum = 40\n"
     ]
    }
   ],
   "source": [
    "#using function\n",
    "\n",
    "def add(a,b): \n",
    "    c=a+b\n",
    "    return c\n",
    "\n",
    "sum=add(10,30)\n",
    "print(\"sum =\", sum)"
   ]
  },
  {
   "cell_type": "code",
   "execution_count": 47,
   "id": "ab981cfd",
   "metadata": {},
   "outputs": [
    {
     "data": {
      "text/plain": [
       "156"
      ]
     },
     "execution_count": 47,
     "metadata": {},
     "output_type": "execute_result"
    }
   ],
   "source": [
    "#with lambda function\n",
    "\n",
    "addition=lambda x,y : x+y\n",
    "\n",
    "addition(100,56)"
   ]
  },
  {
   "cell_type": "markdown",
   "id": "2cc95823",
   "metadata": {},
   "source": [
    "# Check even & odd"
   ]
  },
  {
   "cell_type": "markdown",
   "id": "2f6208d4",
   "metadata": {},
   "source": [
    "## with lambda function"
   ]
  },
  {
   "cell_type": "code",
   "execution_count": 55,
   "id": "e0a3b8f8",
   "metadata": {},
   "outputs": [
    {
     "name": "stdout",
     "output_type": "stream",
     "text": [
      "Even number: [2, 4, 6, 8, 10, 12]\n",
      "Odd number: [1, 3, 5, 7, 9, 11]\n"
     ]
    }
   ],
   "source": [
    "list=[1,2,3,4,5,6,7,8,9,10,11,12]\n",
    "\n",
    "#use lambda function if value even or odd\n",
    "is_even=lambda x : x%2==0                 #2,4,6,8,10,12 if condition satisfied this value store in vairable is_even\n",
    "is_odd= lambda x : x%2 !=0                #1,3,5,7,9,11  if condition satisfied this value store in vairable is_odd\n",
    "\n",
    "even_num=[]                               #here we create a blank list so we could add the value here\n",
    "odd_num=[]\n",
    "\n",
    "for i in list:               #Use a loop to iterate over the list and get even and odd numbers\n",
    "    if is_even(i):           #first i iterate 1 then check where 1 is (in is_even or is_odd) after that it execute\n",
    "        even_num.append(i)   # if 1 is in is_even if condition satisfied and append the result in even_num[]\n",
    "                             # otherwise else result is satisfied\n",
    "    else:\n",
    "        odd_num.append(i)\n",
    "        \n",
    "\n",
    "#Here we print the result\n",
    "print(\"Even number:\", even_num)\n",
    "    \n",
    "print(\"Odd number:\", odd_num)\n",
    "    "
   ]
  },
  {
   "cell_type": "code",
   "execution_count": 86,
   "id": "2bf18850",
   "metadata": {},
   "outputs": [
    {
     "name": "stdout",
     "output_type": "stream",
     "text": [
      "even numbers = [2, 4, 6, 8]\n",
      "odd numbers = [1, 3, 5, 7]\n"
     ]
    }
   ],
   "source": [
    "#Using function\n",
    "\n",
    "x1=[1,2,3,4,5,6,7,8]\n",
    "even_number=[]\n",
    "odd_number=[]\n",
    "\n",
    "def even_odd(x1):\n",
    "    \n",
    "    for i in x1:\n",
    "        if i%2==0:\n",
    "            even_number.append(i)\n",
    "        else:\n",
    "            odd_number.append(i)\n",
    "\n",
    "\n",
    "even_odd(x1)\n",
    "print(\"even numbers =\",even_number)\n",
    "print(\"odd numbers =\",odd_number)\n",
    "\n",
    "\n"
   ]
  },
  {
   "cell_type": "code",
   "execution_count": null,
   "id": "32309e6f",
   "metadata": {},
   "outputs": [],
   "source": []
  }
 ],
 "metadata": {
  "kernelspec": {
   "display_name": "Python 3 (ipykernel)",
   "language": "python",
   "name": "python3"
  },
  "language_info": {
   "codemirror_mode": {
    "name": "ipython",
    "version": 3
   },
   "file_extension": ".py",
   "mimetype": "text/x-python",
   "name": "python",
   "nbconvert_exporter": "python",
   "pygments_lexer": "ipython3",
   "version": "3.10.9"
  }
 },
 "nbformat": 4,
 "nbformat_minor": 5
}
