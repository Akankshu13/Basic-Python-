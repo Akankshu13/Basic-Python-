{
 "cells": [
  {
   "cell_type": "markdown",
   "id": "3a7bcd67",
   "metadata": {},
   "source": [
    "# Reduce function\n",
    "\n",
    "Python offers a function called reduce() that allows you to reduce a list in a more concise way.\n",
    "\n",
    "The reduce() function applies the fn function of two arguments cumulatively to the items of the list, from left to right, to reduce the list into a single value.\n",
    "\n",
    "Unlike the map() and filter() functions, the reduce() isn’t a built-in function in Python. In fact, the reduce() function belongs to the functools module.\n",
    "\n",
    "To use the reduce() function, you need to import it from the functools module using the following statement at the top of the file:\n",
    "\n",
    "from functools import reduce\n",
    "\n",
    "Syntax: reduce(fn,list)"
   ]
  },
  {
   "cell_type": "markdown",
   "id": "0b8032b5",
   "metadata": {},
   "source": [
    "# Examples"
   ]
  },
  {
   "cell_type": "code",
   "execution_count": 1,
   "id": "00159de0",
   "metadata": {},
   "outputs": [],
   "source": [
    "from functools import reduce # import giving access"
   ]
  },
  {
   "cell_type": "code",
   "execution_count": 2,
   "id": "1d17c5a3",
   "metadata": {},
   "outputs": [],
   "source": [
    "#with function"
   ]
  },
  {
   "cell_type": "code",
   "execution_count": 6,
   "id": "4184688b",
   "metadata": {},
   "outputs": [
    {
     "name": "stdout",
     "output_type": "stream",
     "text": [
      "a=10,b=20,10+20,=30\n",
      "a=30,b=30,30+30,=60\n",
      "a=60,b=40,60+40,=100\n",
      "a=100,b=50,100+50,=150\n",
      "150\n"
     ]
    }
   ],
   "source": [
    "def add(a,b):                                  #create a function of adding two values\n",
    "    print(f\"a={a},b={b},{a}+{b},={a+b}\")        \n",
    "    return a+b\n",
    "          \n",
    "\n",
    "scores=[10,20,30,40,50]             \n",
    "total=reduce(add,scores)           \n",
    "                                   \n",
    "print(total)"
   ]
  },
  {
   "cell_type": "markdown",
   "id": "a7caf48b",
   "metadata": {},
   "source": [
    "##Explanation\n",
    "\n",
    "###we assigned the result into variable total and we apply reduce function and in bracket we passed our function name add and list name scores.\n",
    "\n",
    "###the reduce() function cumulatively adds two elements of the list from left to right and reduces the whole list into a single value."
   ]
  },
  {
   "cell_type": "code",
   "execution_count": 7,
   "id": "23d3adae",
   "metadata": {},
   "outputs": [],
   "source": [
    "#with lambda"
   ]
  },
  {
   "cell_type": "code",
   "execution_count": 8,
   "id": "90760e4c",
   "metadata": {},
   "outputs": [
    {
     "name": "stdout",
     "output_type": "stream",
     "text": [
      "60\n"
     ]
    }
   ],
   "source": [
    "a=[10,11,12,13,14]\n",
    "\n",
    "add=reduce(lambda x,y: x+y,a)   #here we create lambda function of addition and pass the list a\n",
    "print(add)"
   ]
  },
  {
   "cell_type": "code",
   "execution_count": 9,
   "id": "bac3d25b",
   "metadata": {},
   "outputs": [
    {
     "name": "stdout",
     "output_type": "stream",
     "text": [
      "240240\n"
     ]
    }
   ],
   "source": [
    "a=[10,11,12,13,14]\n",
    "\n",
    "add=reduce(lambda x,y: x*y,a)   #here we create lambda function of multiplication and pass the list a\n",
    "print(add)"
   ]
  },
  {
   "cell_type": "markdown",
   "id": "48a5d898",
   "metadata": {},
   "source": [
    "a=[1,2,3,4,5,6]\n",
    "\n",
    "add=reduce(lambda x,y: x*y,a)   #here we create lambda function of addition and pass the list a\n",
    "print(add)"
   ]
  },
  {
   "cell_type": "code",
   "execution_count": 11,
   "id": "1d54ab94",
   "metadata": {},
   "outputs": [
    {
     "name": "stdout",
     "output_type": "stream",
     "text": [
      "17\n"
     ]
    }
   ],
   "source": [
    "sol=[1,3,5,6,2]\n",
    "\n",
    "add=reduce(lambda x,y : x+y,sol)\n",
    "print(add)"
   ]
  },
  {
   "cell_type": "code",
   "execution_count": 14,
   "id": "82edcaff",
   "metadata": {},
   "outputs": [
    {
     "name": "stdout",
     "output_type": "stream",
     "text": [
      "20\n"
     ]
    }
   ],
   "source": [
    "sol1=[10,12,14,16,18,20]\n",
    "\n",
    "add=reduce(lambda x,y : x if x>y else y ,sol1)\n",
    "print(add)"
   ]
  },
  {
   "cell_type": "markdown",
   "id": "2dbc1364",
   "metadata": {},
   "source": [
    "# Map and filter function with reduce"
   ]
  },
  {
   "cell_type": "code",
   "execution_count": 15,
   "id": "55bcf1ce",
   "metadata": {},
   "outputs": [
    {
     "name": "stdout",
     "output_type": "stream",
     "text": [
      "10\n"
     ]
    }
   ],
   "source": [
    "a = reduce(lambda x,y : x + y ,map(lambda x : x + 2 , filter(lambda x : x % 2 == 0 , [1,2,3,4])))\n",
    "print(a)"
   ]
  },
  {
   "cell_type": "code",
   "execution_count": null,
   "id": "dcd31845",
   "metadata": {},
   "outputs": [],
   "source": []
  }
 ],
 "metadata": {
  "kernelspec": {
   "display_name": "Python 3 (ipykernel)",
   "language": "python",
   "name": "python3"
  },
  "language_info": {
   "codemirror_mode": {
    "name": "ipython",
    "version": 3
   },
   "file_extension": ".py",
   "mimetype": "text/x-python",
   "name": "python",
   "nbconvert_exporter": "python",
   "pygments_lexer": "ipython3",
   "version": "3.10.9"
  }
 },
 "nbformat": 4,
 "nbformat_minor": 5
}
