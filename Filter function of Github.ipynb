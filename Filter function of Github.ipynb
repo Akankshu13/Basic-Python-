{
 "cells": [
  {
   "cell_type": "markdown",
   "id": "b89512f4",
   "metadata": {},
   "source": [
    "# Filter Function\n",
    "\n",
    "The filter() function selects elements from an iterable (list, tuple etc.) based on the output of a function.\n",
    "\n",
    "The function is applied to each element of the iterable and if it returns True, the element is selected by the filter() function."
   ]
  },
  {
   "cell_type": "code",
   "execution_count": 2,
   "id": "51838866",
   "metadata": {},
   "outputs": [
    {
     "name": "stdout",
     "output_type": "stream",
     "text": [
      "[2, 4, 6]\n"
     ]
    }
   ],
   "source": [
    "a=[1,2,3,4,5,6]\n",
    "\n",
    "b=list(filter(lambda x : x%2==0,a))\n",
    "print(b)"
   ]
  },
  {
   "cell_type": "code",
   "execution_count": 4,
   "id": "abc446d2",
   "metadata": {},
   "outputs": [
    {
     "name": "stdout",
     "output_type": "stream",
     "text": [
      "[5, 6, 7, 8]\n"
     ]
    }
   ],
   "source": [
    "a=[1,2,3,4,5,6,7,8]\n",
    "\n",
    "b=list(filter(lambda x : x>=5,a))\n",
    "print(b)"
   ]
  },
  {
   "cell_type": "code",
   "execution_count": 7,
   "id": "0ec638b8",
   "metadata": {},
   "outputs": [
    {
     "name": "stdout",
     "output_type": "stream",
     "text": [
      "['a', 'e', 'i', 'o', 'u']\n"
     ]
    }
   ],
   "source": [
    "letters= ['a','b','c','h','e','i','j','l','o','p','u']\n",
    "vowels=['a','e','i','o','u']\n",
    "\n",
    "def vow(letters):           #here we create a function that return true if letters in vowels\n",
    "    \n",
    "    if letters in vowels:\n",
    "        return True\n",
    "\n",
    "c=list(filter(vow,letters))    #here we converting the result into list after that we apply filter function that itreat\n",
    "                               # the value one by one then we call function name vow and pass the argument letters\n",
    "    \n",
    "print(c)"
   ]
  },
  {
   "cell_type": "code",
   "execution_count": 11,
   "id": "f1c3e2ab",
   "metadata": {},
   "outputs": [
    {
     "name": "stdout",
     "output_type": "stream",
     "text": [
      "Enter a letter you want to check  vowel or not?y\n",
      "[]\n"
     ]
    }
   ],
   "source": [
    "letters= str(input(\"Enter a letter you want to check  vowel or not?\"))\n",
    "vowels=['a','e','i','o','u']\n",
    "\n",
    "def vow(letters):           #here we create a function that return true if letters in vowels\n",
    "    \n",
    "    if letters in vowels:\n",
    "        return True\n",
    "    else:\n",
    "        return False\n",
    "\n",
    "c=list(filter(vow,letters))    #here we converting the result into list after that we apply filter function that itreat\n",
    "                               # the value one by one then we call function name vow and pass the argument letters\n",
    "    \n",
    "print(c)"
   ]
  },
  {
   "cell_type": "markdown",
   "id": "a56fd7ab",
   "metadata": {},
   "source": [
    "# Filter with Map Function"
   ]
  },
  {
   "cell_type": "code",
   "execution_count": 16,
   "id": "2140decf",
   "metadata": {
    "scrolled": true
   },
   "outputs": [
    {
     "name": "stdout",
     "output_type": "stream",
     "text": [
      "[9, 10, 11]\n"
     ]
    }
   ],
   "source": [
    "a=[1,2,3,4,5,6]\n",
    "\n",
    "b=map(lambda x : x+5 , filter(lambda x : x>3,a))      \n",
    "print(list(b))"
   ]
  },
  {
   "cell_type": "code",
   "execution_count": 17,
   "id": "d99fc9d9",
   "metadata": {},
   "outputs": [],
   "source": [
    "#Explanation\n",
    "\n",
    "#first filter function was solve, here we create a lambda function by passing one argument, so filter iterate the value of a \n",
    "#one by one and check the expression x>3\n",
    "#so after filter result is 4,5,6\n",
    "\n",
    "#Now, map function is execute here we also pass one argument, so map also iterate the value of 4,5,6 one by one\n",
    "# and perform the expression x+5, and the result is 9,10,11\n",
    "\n",
    "#at the end we converting the result into list and print it."
   ]
  },
  {
   "cell_type": "code",
   "execution_count": 18,
   "id": "854be140",
   "metadata": {},
   "outputs": [
    {
     "name": "stdout",
     "output_type": "stream",
     "text": [
      "[1936, 3249, 4225]\n"
     ]
    }
   ],
   "source": [
    "a=[10,20,30,44,57,65]\n",
    "\n",
    "b=map(lambda x : x*x , filter(lambda x : x>30,a))      \n",
    "print(list(b))"
   ]
  },
  {
   "cell_type": "code",
   "execution_count": 22,
   "id": "ca30bf3e",
   "metadata": {},
   "outputs": [
    {
     "name": "stdout",
     "output_type": "stream",
     "text": [
      "[84, 97, 105]\n"
     ]
    }
   ],
   "source": [
    "a=[10,20,30,44,57,65]\n",
    "\n",
    "\n",
    "b=map(lambda x : x+40 , filter(lambda x: x>=40,a))      \n",
    "print(list(b))"
   ]
  },
  {
   "cell_type": "markdown",
   "id": "1177b4c9",
   "metadata": {},
   "source": [
    "# Map With Filter FUnction"
   ]
  },
  {
   "cell_type": "code",
   "execution_count": 23,
   "id": "b13e47e4",
   "metadata": {},
   "outputs": [
    {
     "name": "stdout",
     "output_type": "stream",
     "text": [
      "[60, 70, 80, 90]\n"
     ]
    }
   ],
   "source": [
    "a=[10,20,30,40,50,60,70,80,90,100]\n",
    "\n",
    "b=filter(lambda x : x>50, map(lambda x : x-10,a))\n",
    "print(list(b))"
   ]
  },
  {
   "cell_type": "code",
   "execution_count": 24,
   "id": "7704b28b",
   "metadata": {},
   "outputs": [],
   "source": [
    "#Explanation\n",
    "\n",
    "#first map function was solve, here we create a lambda function by passing one argument, so map iterate the value of a \n",
    "#one by one and solve the expression x-10\n",
    "#so after map result is 10,20,30,40,50,60,70,80,90\n",
    "\n",
    "#Now, filter function is execute here we also pass one argument, so filter also iterate the value of 10,20,30,40,50,60,70,80,90 one by one\n",
    "# and perform the expression x>50, and if the value is greater than 50 then it stores to variable b and the result is 60,70,80,90\n",
    "\n",
    "#at the end we converting the result into list and print it."
   ]
  },
  {
   "cell_type": "code",
   "execution_count": 26,
   "id": "5dd93eb7",
   "metadata": {},
   "outputs": [
    {
     "name": "stdout",
     "output_type": "stream",
     "text": [
      "[12, 14, 16]\n"
     ]
    }
   ],
   "source": [
    "a=10,11,12,13,14,15\n",
    "\n",
    "b=filter(lambda x : x%2==0, map(lambda x : x+2,a)) #print even number\n",
    "print(list(b))"
   ]
  },
  {
   "cell_type": "code",
   "execution_count": null,
   "id": "1f574404",
   "metadata": {},
   "outputs": [],
   "source": []
  }
 ],
 "metadata": {
  "kernelspec": {
   "display_name": "Python 3 (ipykernel)",
   "language": "python",
   "name": "python3"
  },
  "language_info": {
   "codemirror_mode": {
    "name": "ipython",
    "version": 3
   },
   "file_extension": ".py",
   "mimetype": "text/x-python",
   "name": "python",
   "nbconvert_exporter": "python",
   "pygments_lexer": "ipython3",
   "version": "3.10.9"
  }
 },
 "nbformat": 4,
 "nbformat_minor": 5
}
