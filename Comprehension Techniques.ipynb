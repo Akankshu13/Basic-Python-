{
 "cells": [
  {
   "cell_type": "markdown",
   "id": "e406f905",
   "metadata": {},
   "source": [
    "# Comprehension Techniques\n",
    "\n",
    "\n",
    "-List comprehension\n",
    "\n",
    "-Dictionary comprehension"
   ]
  },
  {
   "cell_type": "code",
   "execution_count": 1,
   "id": "d16d699a",
   "metadata": {},
   "outputs": [],
   "source": [
    "# comprehension techniques is used for reduce the lines of code\n",
    "# we can work with only list and dictionarie's\n"
   ]
  },
  {
   "cell_type": "markdown",
   "id": "65ed8811",
   "metadata": {},
   "source": [
    "# List comprehension\n",
    "\n",
    "List comprehension is an elegant way to define and create lists based on existing lists.\n",
    "\n",
    "List comprehension is generally more compact and faster than normal functions and loops for creating list.\n",
    "\n",
    "However, we should avoid writing very long list comprehensions in one line to ensure that code is user-friendly.\n",
    "\n",
    "Remember, every list comprehension can be rewritten in for loop, but every for loop can’t be rewritten in the form of list comprehension."
   ]
  },
  {
   "cell_type": "code",
   "execution_count": 3,
   "id": "75ad90f9",
   "metadata": {},
   "outputs": [
    {
     "name": "stdout",
     "output_type": "stream",
     "text": [
      "[1, 2, 3, 4, 5, 6, 7, 8, 9, 10, 11, 12, 13, 14, 15, 16, 17, 18, 19, 20]\n"
     ]
    }
   ],
   "source": [
    "#using for loop\n",
    "\n",
    "a=[]\n",
    "for i in range(1,21):\n",
    "    a.append(i)\n",
    "    \n",
    "print(a)"
   ]
  },
  {
   "cell_type": "code",
   "execution_count": 5,
   "id": "f484c5f6",
   "metadata": {},
   "outputs": [
    {
     "name": "stdout",
     "output_type": "stream",
     "text": [
      "[1, 2, 3, 4, 5, 6, 7, 8, 9, 10, 11, 12, 13, 14, 15, 16, 17, 18, 19, 20]\n"
     ]
    }
   ],
   "source": [
    "#using list comprehension\n",
    "\n",
    "a1=[i for i in range(1,21)]   #first we write the value we want to print then for loop condition\n",
    "print(a1)"
   ]
  },
  {
   "cell_type": "code",
   "execution_count": 12,
   "id": "6cafb927",
   "metadata": {},
   "outputs": [
    {
     "name": "stdout",
     "output_type": "stream",
     "text": [
      "Good Morning, Good Morning, Good Morning, Good Morning, Good Morning, Good Morning, Good Morning, Good Morning, Good Morning, Good Morning, Good Morning, Good Morning, Good Morning, Good Morning, Good Morning, Good Morning, Good Morning, Good Morning, Good Morning, Good Morning, "
     ]
    }
   ],
   "source": [
    "#using for loop to print good morning 20 times\n",
    "\n",
    "for i in range(1,21):\n",
    "    print(\"Good Morning\",end=\", \")"
   ]
  },
  {
   "cell_type": "code",
   "execution_count": 13,
   "id": "8f139d14",
   "metadata": {},
   "outputs": [
    {
     "name": "stdout",
     "output_type": "stream",
     "text": [
      "['Good Morning', 'Good Morning', 'Good Morning', 'Good Morning', 'Good Morning', 'Good Morning', 'Good Morning', 'Good Morning', 'Good Morning', 'Good Morning', 'Good Morning', 'Good Morning', 'Good Morning', 'Good Morning', 'Good Morning', 'Good Morning', 'Good Morning', 'Good Morning', 'Good Morning', 'Good Morning']\n"
     ]
    }
   ],
   "source": [
    "#using list comprehension to print good morning 20 times\n",
    "\n",
    "a2=[\"Good Morning\"for i in range(1,21)]\n",
    "print(a2)"
   ]
  },
  {
   "cell_type": "code",
   "execution_count": 18,
   "id": "42acddac",
   "metadata": {},
   "outputs": [
    {
     "name": "stdout",
     "output_type": "stream",
     "text": [
      "52 54 56 58 "
     ]
    }
   ],
   "source": [
    "# find the even numbers from 51 to 60 using for loop\n",
    "\n",
    "for i in range(51,60):\n",
    "    if i%2==0:\n",
    "        print(i,end=\" \")\n",
    "    \n",
    "        "
   ]
  },
  {
   "cell_type": "markdown",
   "id": "cbdd6915",
   "metadata": {},
   "source": [
    "## NOTE-\n",
    "\n",
    "using only for loop means the syntax will be [result forloop]\n",
    "\n",
    "but when ur using forloop and if condition the syntax wil be [result forloop ifcondition]\n"
   ]
  },
  {
   "cell_type": "code",
   "execution_count": 19,
   "id": "458e8b7b",
   "metadata": {},
   "outputs": [
    {
     "name": "stdout",
     "output_type": "stream",
     "text": [
      "[52, 54, 56, 58]\n"
     ]
    }
   ],
   "source": [
    "# find the even numbers from 51 to 60 using list comprehension\n",
    "\n",
    "b=[i for i in range(51,60) if i%2==0]\n",
    "print(b)"
   ]
  },
  {
   "cell_type": "code",
   "execution_count": 30,
   "id": "440dd4f6",
   "metadata": {},
   "outputs": [
    {
     "name": "stdout",
     "output_type": "stream",
     "text": [
      "[1, 8, 27, 64, 125, 216, 343, 512, 729, 1000]\n"
     ]
    }
   ],
   "source": [
    "#find the cube of numbers from 1 to 10 using for loop\n",
    "\n",
    "cubes=[]\n",
    "for i in range(1,11):\n",
    "    \n",
    "    cubes.append(i*i*i)\n",
    "print(cubes)"
   ]
  },
  {
   "cell_type": "code",
   "execution_count": 32,
   "id": "b4f18275",
   "metadata": {},
   "outputs": [
    {
     "name": "stdout",
     "output_type": "stream",
     "text": [
      "[1, 8, 27, 64, 125, 216, 343, 512, 729]\n"
     ]
    }
   ],
   "source": [
    "#find the cube of numbers from 1 to 10 using list comprehension\n",
    "\n",
    "sol=[i*i*i for i in range(1,10)]\n",
    "print(sol)"
   ]
  },
  {
   "cell_type": "code",
   "execution_count": 33,
   "id": "01fbb06c",
   "metadata": {},
   "outputs": [
    {
     "name": "stdout",
     "output_type": "stream",
     "text": [
      "[21, 22, 23, 24, 25, 26, 27, 28, 29]\n"
     ]
    }
   ],
   "source": [
    "#using for loop create a blank list then add the value of 1 to 10 by adding 20\n",
    "\n",
    "list=[]\n",
    "for i in range(1,10):\n",
    "    list.append(i+20)\n",
    "print(list)"
   ]
  },
  {
   "cell_type": "code",
   "execution_count": 34,
   "id": "587071a0",
   "metadata": {},
   "outputs": [
    {
     "name": "stdout",
     "output_type": "stream",
     "text": [
      "[21, 22, 23, 24, 25, 26, 27, 28, 29]\n"
     ]
    }
   ],
   "source": [
    "#using list comprehension create a blank list then add the value of 1 to 10 by adding 20\n",
    "\n",
    "sol=[i+20 for i in range(1,10)]\n",
    "print(sol)\n"
   ]
  },
  {
   "cell_type": "markdown",
   "id": "bedfc524",
   "metadata": {},
   "source": [
    "# if...else With List Comprehension"
   ]
  },
  {
   "cell_type": "code",
   "execution_count": 38,
   "id": "01eb676a",
   "metadata": {},
   "outputs": [
    {
     "name": "stdout",
     "output_type": "stream",
     "text": [
      "Odd Number : 51, Even Number : 52, Odd Number : 53, Even Number : 54, Odd Number : 55, Even Number : 56, Odd Number : 57, Even Number : 58, Odd Number : 59, "
     ]
    }
   ],
   "source": [
    "# find even and odd using for loop\n",
    "\n",
    "for i in range(51,60):\n",
    "    if i%2==0:\n",
    "        print(\"Even Number :\",i, end=\", \")  #using end for priting the code in a single line\n",
    "    else:\n",
    "        print(\"Odd Number :\",i, end=\", \")"
   ]
  },
  {
   "cell_type": "code",
   "execution_count": 22,
   "id": "89037482",
   "metadata": {},
   "outputs": [
    {
     "name": "stdout",
     "output_type": "stream",
     "text": [
      "['odd 51', 'even 52', 'odd 53', 'even 54', 'odd 55', 'even 56', 'odd 57', 'even 58', 'odd 59', 'even 60']\n"
     ]
    }
   ],
   "source": [
    "# find the even and odd numbers from 51 to 60 using list comprehension\n",
    "\n",
    "sol = ['even '+str(i) if i % 2 == 0 else 'odd '+str(i) for i in range(51,61)]\n",
    "print(sol)\n"
   ]
  },
  {
   "cell_type": "markdown",
   "id": "cd5b5b5a",
   "metadata": {},
   "source": [
    "### syntax: if we are using forlop if and else \n",
    "### [result ifcondition else condition forloop]\n"
   ]
  },
  {
   "cell_type": "code",
   "execution_count": 35,
   "id": "778fe630",
   "metadata": {},
   "outputs": [
    {
     "name": "stdout",
     "output_type": "stream",
     "text": [
      "[1, 4, 27, 16, 125, 36, 343, 64, 729, 100]\n"
     ]
    }
   ],
   "source": [
    "#using for loop\n",
    "\n",
    "result = []\n",
    "\n",
    "for num in range(1, 11):\n",
    "    if num % 2 == 0:\n",
    "        result.append(num ** 2)\n",
    "    else:\n",
    "        result.append(num ** 3)\n",
    "print(result)"
   ]
  },
  {
   "cell_type": "code",
   "execution_count": 37,
   "id": "d306cf19",
   "metadata": {},
   "outputs": [
    {
     "name": "stdout",
     "output_type": "stream",
     "text": [
      "[1, 4, 27, 16, 125, 36, 343, 64, 729, 100, 1331, 144, 2197, 196, 3375, 256, 4913, 324, 6859]\n"
     ]
    }
   ],
   "source": [
    "#using list comprehension\n",
    "\n",
    "sol=[i**2 if i%2==0 else i**3 for i in range(1,20)]\n",
    "print(sol)"
   ]
  },
  {
   "cell_type": "markdown",
   "id": "12bc498a",
   "metadata": {},
   "source": [
    "# Nested IF with List Comprehension"
   ]
  },
  {
   "cell_type": "code",
   "execution_count": 23,
   "id": "8188feae",
   "metadata": {},
   "outputs": [
    {
     "name": "stdout",
     "output_type": "stream",
     "text": [
      "[4, 8, 12, 16, 20, 24, 28, 32, 36, 40, 44, 48, 52, 56, 60, 64, 68, 72, 76, 80, 84, 88, 92, 96]\n"
     ]
    }
   ],
   "source": [
    "sol=[i for i in range(1,100) if i%2==0 if i%4==0]\n",
    "print(sol)"
   ]
  },
  {
   "cell_type": "markdown",
   "id": "6a2cdf5d",
   "metadata": {},
   "source": [
    "Here, list comprehension checks:\n",
    "\n",
    "Is i divisible by 2 or not?\n",
    "\n",
    "Is i divisible by 4 or not?\n",
    "\n",
    "If i satisfies both conditions, i is appended to sol."
   ]
  },
  {
   "cell_type": "code",
   "execution_count": null,
   "id": "1e69bf9e",
   "metadata": {},
   "outputs": [],
   "source": []
  }
 ],
 "metadata": {
  "kernelspec": {
   "display_name": "Python 3 (ipykernel)",
   "language": "python",
   "name": "python3"
  },
  "language_info": {
   "codemirror_mode": {
    "name": "ipython",
    "version": 3
   },
   "file_extension": ".py",
   "mimetype": "text/x-python",
   "name": "python",
   "nbconvert_exporter": "python",
   "pygments_lexer": "ipython3",
   "version": "3.10.9"
  }
 },
 "nbformat": 4,
 "nbformat_minor": 5
}
