{
 "cells": [
  {
   "cell_type": "markdown",
   "id": "2a349018",
   "metadata": {},
   "source": [
    "# Map Function\n",
    "\n",
    "The map() function applies a given function to each element of an iterable (list, tuple etc.) and returns an iterator containing the results.\n",
    "\n",
    "In short,It executes a specified function for each item in an iterable. The item is sent to the function as a parameter.\n",
    "\n",
    "Syntax \n",
    "map(function , iterables)\n",
    "\n",
    "function = The function to execute for each item\n",
    "iterable = A sequence, collection or an iterator object. You can send as many iterables as you like, just make sure the function has one parameter for each iterable.\n",
    "\n",
    "Applies the given function to all the iterables and returns a new list."
   ]
  },
  {
   "cell_type": "markdown",
   "id": "1cad4027",
   "metadata": {},
   "source": [
    "# Examples"
   ]
  },
  {
   "cell_type": "code",
   "execution_count": 45,
   "id": "61db3656",
   "metadata": {},
   "outputs": [],
   "source": [
    "def even_odd(a):  #create a function named even_odd to check whether the function is even or odd and return the value \n",
    "    if a%2==0:\n",
    "        return'The number {} is Even'.format(a)\n",
    "    else:\n",
    "        return'The number {} is Odd'.format(a)"
   ]
  },
  {
   "cell_type": "code",
   "execution_count": 48,
   "id": "5b266b54",
   "metadata": {},
   "outputs": [
    {
     "data": {
      "text/plain": [
       "['The number 1 is Odd',\n",
       " 'The number 2 is Even',\n",
       " 'The number 3 is Odd',\n",
       " 'The number 4 is Even',\n",
       " 'The number 5 is Odd',\n",
       " 'The number 6 is Even',\n",
       " 'The number 7 is Odd',\n",
       " 'The number 8 is Even']"
      ]
     },
     "execution_count": 48,
     "metadata": {},
     "output_type": "execute_result"
    }
   ],
   "source": [
    "a=[1,2,3,4,5,6,7,8]      \n",
    "\n",
    "#use list to convert the value in list,  \n",
    "#use map function to iterate the value of a one by one\n",
    "#then function name and after the comma pass the vairable a\n",
    "\n",
    "is_even_odd= list(map(even_odd,a))  \n",
    "is_even_odd"
   ]
  },
  {
   "cell_type": "markdown",
   "id": "2b6055d4",
   "metadata": {},
   "source": [
    "# How to find a Square "
   ]
  },
  {
   "cell_type": "code",
   "execution_count": 1,
   "id": "d644171e",
   "metadata": {},
   "outputs": [],
   "source": [
    "def square(a):                 #here we create a square function\n",
    "    return a*a\n",
    "\n"
   ]
  },
  {
   "cell_type": "code",
   "execution_count": 2,
   "id": "1f6d6077",
   "metadata": {},
   "outputs": [
    {
     "name": "stdout",
     "output_type": "stream",
     "text": [
      "[1, 4, 9, 16]\n"
     ]
    }
   ],
   "source": [
    "a=[1,2,3,4]                    #here pass the value of a \n",
    "b=list(map(square,a))          #here we first convert the value to list, after that apply map function and then call square \n",
    "                                #function and pass argument a\n",
    "print(b)"
   ]
  },
  {
   "cell_type": "code",
   "execution_count": 4,
   "id": "a4815399",
   "metadata": {},
   "outputs": [
    {
     "name": "stdout",
     "output_type": "stream",
     "text": [
      "[25, 36, 49, 64]\n"
     ]
    }
   ],
   "source": [
    "#we can do in this way also\n",
    "\n",
    "def square(a): #here we create a square function\n",
    "    return a*a\n",
    "\n",
    "\n",
    "b=list(map(square,[5,6,7,8])) #here we passed the value of a direct after square\n",
    "print(b)"
   ]
  },
  {
   "cell_type": "markdown",
   "id": "1d8fd61f",
   "metadata": {},
   "source": [
    "# Map and Lambda\n",
    "\n",
    "Python's map() is a built-in function that allows you to process and transform all the items in an iterable without using an explicit for loop.\n",
    "\n",
    "In short,map() function transforming itreable without loops."
   ]
  },
  {
   "cell_type": "code",
   "execution_count": 7,
   "id": "ed46cc05",
   "metadata": {},
   "outputs": [
    {
     "name": "stdout",
     "output_type": "stream",
     "text": [
      "[11, 12, 14, 16]\n"
     ]
    }
   ],
   "source": [
    "a=[1,2,4,6]            \n",
    "\n",
    "b=list(map(lambda a : a+10,a))    \n",
    "print(b)"
   ]
  },
  {
   "cell_type": "code",
   "execution_count": 8,
   "id": "5391fce8",
   "metadata": {},
   "outputs": [],
   "source": [
    "#first we convert the result into list.\n",
    "#after that we use map function that iterate the value of a one by one.\n",
    "#after that we create a lambda function,in which we pass one argument a and in expression we write a+10 that means add the \n",
    "#of a to 10."
   ]
  },
  {
   "cell_type": "code",
   "execution_count": 10,
   "id": "b0854d3c",
   "metadata": {},
   "outputs": [
    {
     "name": "stdout",
     "output_type": "stream",
     "text": [
      "[12, 16, 38, 65]\n"
     ]
    }
   ],
   "source": [
    "a=[6,7,18,20]\n",
    "b=[6,9,20,45]\n",
    "\n",
    "c=list(map(lambda x,y : x+y,a,b))  #here we pass two argument \n",
    "print(c)"
   ]
  },
  {
   "cell_type": "code",
   "execution_count": 12,
   "id": "fbfadc30",
   "metadata": {},
   "outputs": [
    {
     "name": "stdout",
     "output_type": "stream",
     "text": [
      "[200, 400, 600, 800]\n"
     ]
    }
   ],
   "source": [
    "a=[10,20,30,40]\n",
    "\n",
    "b=list(map(lambda x : x*20,a))\n",
    "print(b)"
   ]
  },
  {
   "cell_type": "code",
   "execution_count": 14,
   "id": "2d343bd6",
   "metadata": {},
   "outputs": [
    {
     "name": "stdout",
     "output_type": "stream",
     "text": [
      "[False, True, True, True, True]\n"
     ]
    }
   ],
   "source": [
    "a=[1,3,5,7,24]\n",
    "\n",
    "b=list(map(lambda x : x>=3,a))\n",
    "print(b)"
   ]
  },
  {
   "cell_type": "code",
   "execution_count": null,
   "id": "68b9de15",
   "metadata": {},
   "outputs": [],
   "source": [
    "#by functiin"
   ]
  }
 ],
 "metadata": {
  "kernelspec": {
   "display_name": "Python 3 (ipykernel)",
   "language": "python",
   "name": "python3"
  },
  "language_info": {
   "codemirror_mode": {
    "name": "ipython",
    "version": 3
   },
   "file_extension": ".py",
   "mimetype": "text/x-python",
   "name": "python",
   "nbconvert_exporter": "python",
   "pygments_lexer": "ipython3",
   "version": "3.10.9"
  }
 },
 "nbformat": 4,
 "nbformat_minor": 5
}
