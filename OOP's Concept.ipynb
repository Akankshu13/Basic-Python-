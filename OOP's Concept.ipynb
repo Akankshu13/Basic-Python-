{
 "cells": [
  {
   "cell_type": "markdown",
   "id": "29d87447",
   "metadata": {},
   "source": [
    "# OOP's Concept"
   ]
  },
  {
   "cell_type": "markdown",
   "id": "96688eb9",
   "metadata": {},
   "source": [
    "Python, object-oriented Programming (OOPs) is a programming paradigm that uses objects and classes in programming. It aims to implement real-world entities like inheritance, polymorphisms, encapsulation, etc. in the programming. The main concept of OOPs is to bind the data and the functions that work on that together as a single unit so that no other part of the code can access this data."
   ]
  },
  {
   "cell_type": "markdown",
   "id": "e5799976",
   "metadata": {},
   "source": [
    "# OOPs Concepts in Python"
   ]
  },
  {
   "cell_type": "raw",
   "id": "5674291e",
   "metadata": {},
   "source": [
    "class\n",
    "object\n",
    "constructors\n",
    "function in a class\n",
    "Inheritance\n",
    "polymorphisam\n",
    "Abstraction\n",
    "Encapsulation"
   ]
  },
  {
   "cell_type": "markdown",
   "id": "6a575238",
   "metadata": {},
   "source": [
    "## Python Class --"
   ]
  },
  {
   "cell_type": "raw",
   "id": "7ab87c55",
   "metadata": {},
   "source": [
    "A class is a collection of objects. A class contains the blueprints or the prototype from which the objects are being created. It is a logical entity that contains some attributes and methods."
   ]
  },
  {
   "cell_type": "markdown",
   "id": "589a3bbc",
   "metadata": {},
   "source": [
    "syntax for class : class [class_name] :\n"
   ]
  },
  {
   "cell_type": "code",
   "execution_count": 134,
   "id": "8b3bfb32",
   "metadata": {},
   "outputs": [
    {
     "name": "stdout",
     "output_type": "stream",
     "text": [
      "Not right\n"
     ]
    }
   ],
   "source": [
    "class Bat():\n",
    "    print(\"Not right\")"
   ]
  },
  {
   "cell_type": "markdown",
   "id": "c3b20511",
   "metadata": {},
   "source": [
    "In the above example, we have created a class named bat using the class keyword."
   ]
  },
  {
   "cell_type": "code",
   "execution_count": 135,
   "id": "8e032ebc",
   "metadata": {},
   "outputs": [],
   "source": [
    "class GroupA():\n",
    "    a=10\n",
    "    b=20"
   ]
  },
  {
   "cell_type": "markdown",
   "id": "2750cb19",
   "metadata": {},
   "source": [
    "Classes are created by keyword class.\n",
    "\n",
    "Attributes are the variables that belong to a class.\n",
    "\n",
    "Attributes are always public and can be accessed using the dot (.) operator. Eg.: Myclass.Myattribute"
   ]
  },
  {
   "cell_type": "markdown",
   "id": "b274f6de",
   "metadata": {},
   "source": [
    "## Python Object--"
   ]
  },
  {
   "cell_type": "raw",
   "id": "d3f1e971",
   "metadata": {},
   "source": [
    "An object is any entity that has attributes and behaviors. For example, a parrot is an object. It has\n",
    "\n",
    "attributes - name, age, color, etc.\n",
    "behavior - dancing, singing, etc."
   ]
  },
  {
   "cell_type": "raw",
   "id": "dde51555",
   "metadata": {},
   "source": [
    "Integers, strings, floating-point numbers, even arrays, and dictionaries, are all objects."
   ]
  },
  {
   "cell_type": "markdown",
   "id": "5867c6d4",
   "metadata": {},
   "source": [
    "### creating a class of groupA\n"
   ]
  },
  {
   "cell_type": "code",
   "execution_count": 136,
   "id": "0c9f6ed2",
   "metadata": {},
   "outputs": [
    {
     "name": "stdout",
     "output_type": "stream",
     "text": [
      "30\n"
     ]
    }
   ],
   "source": [
    "\n",
    "obj= GroupA()\n",
    "print(obj.a+obj.b)            # hey object go to class and add two values:\n",
    "                               # call obj as object or instance \n"
   ]
  },
  {
   "cell_type": "markdown",
   "id": "099ee7a0",
   "metadata": {},
   "source": [
    "### Find the area of rectangle:  length * breadth\n"
   ]
  },
  {
   "cell_type": "code",
   "execution_count": 137,
   "id": "bc8c2862",
   "metadata": {},
   "outputs": [
    {
     "name": "stdout",
     "output_type": "stream",
     "text": [
      "358416\n"
     ]
    }
   ],
   "source": [
    "\n",
    "\n",
    "class Rectangle():\n",
    "    length=456\n",
    "    breadth=786\n",
    "    \n",
    "obj=Rectangle()             #create an object \n",
    "print(obj.length*obj.breadth)\n",
    "    "
   ]
  },
  {
   "cell_type": "markdown",
   "id": "ca0296f7",
   "metadata": {},
   "source": [
    "# Note:\n",
    " class : collection of functions or variables \n",
    " \n",
    " Object : Instance of a class "
   ]
  },
  {
   "cell_type": "markdown",
   "id": "734e2eee",
   "metadata": {},
   "source": [
    "### since class is also having permisson:"
   ]
  },
  {
   "cell_type": "code",
   "execution_count": 138,
   "id": "a5e25aab",
   "metadata": {},
   "outputs": [
    {
     "name": "stdout",
     "output_type": "stream",
     "text": [
      "20000\n"
     ]
    }
   ],
   "source": [
    "\n",
    "\n",
    "class Rectangle():\n",
    "    length=100\n",
    "    breadth=200\n",
    "    \n",
    "\n",
    "    \n",
    "# Class will do the operation:\n",
    "\n",
    "print(Rectangle.length * Rectangle.breadth)"
   ]
  },
  {
   "cell_type": "markdown",
   "id": "4d8b9920",
   "metadata": {},
   "source": [
    "### creating an class about student"
   ]
  },
  {
   "cell_type": "code",
   "execution_count": 139,
   "id": "f98e5ad2",
   "metadata": {},
   "outputs": [
    {
     "name": "stdout",
     "output_type": "stream",
     "text": [
      "Kate roll number is 21\n",
      "Mate roll number is 31\n"
     ]
    }
   ],
   "source": [
    "class Student():\n",
    "    name=\"\"                        # class attribute\n",
    "    roll_num=0\n",
    "\n",
    "pass_student=Student()         # create pass_student object\n",
    "pass_student.name=\"Kate\"\n",
    "pass_student.roll_num=21\n",
    "\n",
    "\n",
    "fail_student=Student()        # create another object fail_student \n",
    "fail_student.name=\"Mate\"\n",
    "fail_student.roll_num=31\n",
    "\n",
    "# access attributes\n",
    "print(f\"{pass_student.name} roll number is {pass_student.roll_num}\")\n",
    "print(f\"{fail_student.name} roll number is {fail_student.roll_num}\")"
   ]
  },
  {
   "cell_type": "markdown",
   "id": "ec449778",
   "metadata": {},
   "source": [
    "### Example for pass keyword\n"
   ]
  },
  {
   "cell_type": "code",
   "execution_count": 12,
   "id": "db75e2ac",
   "metadata": {},
   "outputs": [
    {
     "name": "stdout",
     "output_type": "stream",
     "text": [
      "Odd\n"
     ]
    }
   ],
   "source": [
    "a=10\n",
    "if a==0:\n",
    "    print(\"Even\")\n",
    "else:\n",
    "    print(\"Odd\")"
   ]
  },
  {
   "cell_type": "code",
   "execution_count": 13,
   "id": "cf89ba2d",
   "metadata": {},
   "outputs": [],
   "source": [
    "a=9\n",
    "if a==0:\n",
    "    print(\"Even\")\n",
    "else:\n",
    "    pass         #it will print nothing bcz we pass it"
   ]
  },
  {
   "cell_type": "markdown",
   "id": "ed45a69b",
   "metadata": {},
   "source": [
    "### can object creates data inside the class:"
   ]
  },
  {
   "cell_type": "code",
   "execution_count": 140,
   "id": "9347c3be",
   "metadata": {},
   "outputs": [
    {
     "name": "stdout",
     "output_type": "stream",
     "text": [
      "20000\n"
     ]
    }
   ],
   "source": [
    "class Rectangle_1():\n",
    "    pass\n",
    "\n",
    "\n",
    "object_ = Rectangle_1()\n",
    "object_.length = 100                             # yes we can create the data into the class using object \n",
    "object_.breadth = 200\n",
    "\n",
    "print(object_.length * object_.breadth)          # since data in available know in class I am doing some math operations \n"
   ]
  },
  {
   "cell_type": "code",
   "execution_count": 141,
   "id": "ba69ce0b",
   "metadata": {},
   "outputs": [
    {
     "name": "stdout",
     "output_type": "stream",
     "text": [
      "30\n"
     ]
    }
   ],
   "source": [
    "#some other examples\n",
    "\n",
    "class Rectangle():\n",
    "    length=5\n",
    "    breadth=6\n",
    "    \n",
    "obj=Rectangle()\n",
    "c=(obj.length*obj.breadth)\n",
    "print(c)\n"
   ]
  },
  {
   "cell_type": "code",
   "execution_count": 142,
   "id": "16e58d79",
   "metadata": {},
   "outputs": [
    {
     "name": "stdout",
     "output_type": "stream",
     "text": [
      "48\n"
     ]
    }
   ],
   "source": [
    "class Rectangle():\n",
    "    pass                  #same program with pass\n",
    "    \n",
    "obj=Rectangle()\n",
    "obj.length=6             # we are creating avariable with the help of obj \n",
    "obj.breadth=8\n",
    "c=(obj.length*obj.breadth)\n",
    "print(c)"
   ]
  },
  {
   "cell_type": "code",
   "execution_count": 144,
   "id": "7385610c",
   "metadata": {},
   "outputs": [
    {
     "ename": "TypeError",
     "evalue": "Am.fun() takes 0 positional arguments but 1 was given",
     "output_type": "error",
     "traceback": [
      "\u001b[1;31m---------------------------------------------------------------------------\u001b[0m",
      "\u001b[1;31mTypeError\u001b[0m                                 Traceback (most recent call last)",
      "Cell \u001b[1;32mIn[144], line 6\u001b[0m\n\u001b[0;32m      3\u001b[0m         \u001b[38;5;28mprint\u001b[39m(\u001b[38;5;124m\"\u001b[39m\u001b[38;5;124m Python programming Language \u001b[39m\u001b[38;5;124m\"\u001b[39m)\n\u001b[0;32m      5\u001b[0m obj \u001b[38;5;241m=\u001b[39m Am()\n\u001b[1;32m----> 6\u001b[0m \u001b[43mobj\u001b[49m\u001b[38;5;241;43m.\u001b[39;49m\u001b[43mfun\u001b[49m\u001b[43m(\u001b[49m\u001b[43m)\u001b[49m\n",
      "\u001b[1;31mTypeError\u001b[0m: Am.fun() takes 0 positional arguments but 1 was given"
     ]
    }
   ],
   "source": [
    "class Am():\n",
    "    def fun():\n",
    "        print(\" Python programming Language \")\n",
    "\n",
    "obj = Am()\n",
    "obj.fun()"
   ]
  },
  {
   "cell_type": "code",
   "execution_count": 145,
   "id": "d9ecd752",
   "metadata": {},
   "outputs": [
    {
     "name": "stdout",
     "output_type": "stream",
     "text": [
      " Python programming Language \n"
     ]
    }
   ],
   "source": [
    "class Am():\n",
    "    def fun(self):   #Self is always pointing to Current Object.\n",
    "        print(\" Python programming Language \")\n",
    "\n",
    "obj = Am()\n",
    "obj.fun()"
   ]
  },
  {
   "cell_type": "code",
   "execution_count": 146,
   "id": "c29ca09c",
   "metadata": {},
   "outputs": [
    {
     "name": "stdout",
     "output_type": "stream",
     "text": [
      "Addition = 60\n",
      "multiply= 12\n"
     ]
    }
   ],
   "source": [
    "class Math():\n",
    "    def add(self,a,b,c):    #self=object\n",
    "        return a+b+c\n",
    "    \n",
    "    def multiply(self,a,b,c=4):\n",
    "        return a*b*c\n",
    "    \n",
    "obj=Math()\n",
    "print(\"Addition =\", obj.add(10,20,30))\n",
    "print(\"multiply=\",obj.multiply(1,3))\n"
   ]
  },
  {
   "cell_type": "code",
   "execution_count": 73,
   "id": "a40838ff",
   "metadata": {},
   "outputs": [
    {
     "name": "stdout",
     "output_type": "stream",
     "text": [
      "Area of rectange =  200\n"
     ]
    }
   ],
   "source": [
    "class kamal():\n",
    "    \n",
    "    # the variables inside the class are global variables \n",
    "    length = 10\n",
    "    breadth = 20\n",
    "    \n",
    "    def rectangle(self):\n",
    "        # the variables inside the function is local variables \n",
    "        return self.length * self.breadth\n",
    "        \n",
    "        \n",
    "        \n",
    "        \n",
    "obj = kamal()\n",
    "print(\"Area of rectange = \" , obj.rectangle())"
   ]
  },
  {
   "cell_type": "code",
   "execution_count": 147,
   "id": "a1e4644c",
   "metadata": {},
   "outputs": [
    {
     "data": {
      "text/plain": [
       "16"
      ]
     },
     "execution_count": 147,
     "metadata": {},
     "output_type": "execute_result"
    }
   ],
   "source": [
    "class Square():\n",
    "    \n",
    "\n",
    "    def perimeter(self):\n",
    "        return self.side *4\n",
    "    \n",
    "obj1=Square()\n",
    "obj1.side=4\n",
    "obj1.perimeter()"
   ]
  },
  {
   "cell_type": "code",
   "execution_count": 148,
   "id": "376c7648",
   "metadata": {},
   "outputs": [
    {
     "name": "stdout",
     "output_type": "stream",
     "text": [
      "Sum of two numbers: 24\n"
     ]
    }
   ],
   "source": [
    "class Maths():\n",
    "    \n",
    "    def add(self):\n",
    "        return self.a+self.b\n",
    "    \n",
    "obj=Maths()\n",
    "obj.a=12\n",
    "obj.b=12 \n",
    "print(\"Sum of two numbers:\",obj.add())"
   ]
  },
  {
   "cell_type": "code",
   "execution_count": 149,
   "id": "36da4d86",
   "metadata": {},
   "outputs": [
    {
     "name": "stdout",
     "output_type": "stream",
     "text": [
      "Sum of two numbers: 46\n"
     ]
    }
   ],
   "source": [
    "class Maths():\n",
    "    a=45      #the variables inside the class is globa variables \n",
    "\n",
    "    b=1\n",
    "    \n",
    "    def add(self):\n",
    "        return self.a+self.b     # the variables inside the function is local variables \n",
    "    \n",
    "obj=Maths()\n",
    "print(\"Sum of two numbers:\",obj.add())"
   ]
  },
  {
   "cell_type": "markdown",
   "id": "baefb0a1",
   "metadata": {},
   "source": [
    "# Constructors--"
   ]
  },
  {
   "cell_type": "raw",
   "id": "e883d142",
   "metadata": {},
   "source": [
    "Constructor means same as class but we need to communicate the class through contructor \n",
    " in any language class name and constructor name is same\n",
    "\n",
    " __init__    = constructor \n",
    "\n",
    "once creating the object for the class, the default constructor will be called \n",
    "\n",
    "There are 2 types of constructors--\n",
    "\n",
    "1. default constructors: \n",
    "2. parameter constructors:"
   ]
  },
  {
   "cell_type": "code",
   "execution_count": 150,
   "id": "c40b10af",
   "metadata": {},
   "outputs": [],
   "source": [
    "#default constructor\n",
    "\n",
    "class Copy():\n",
    "  def __init__(self):\n",
    "        print(\"I am constructor\")        #it didnot print bcz we didnot create an object here"
   ]
  },
  {
   "cell_type": "code",
   "execution_count": 152,
   "id": "9091ba44",
   "metadata": {},
   "outputs": [
    {
     "name": "stdout",
     "output_type": "stream",
     "text": [
      "I am constructor\n"
     ]
    }
   ],
   "source": [
    "class Copy():\n",
    "  def __init__(self):           # self is an copy of an object\n",
    "        print(\"I am constructor\")\n",
    "        \n",
    "obj=Copy()                 #here we creating an object"
   ]
  },
  {
   "cell_type": "code",
   "execution_count": 153,
   "id": "f41e4a0a",
   "metadata": {},
   "outputs": [
    {
     "data": {
      "text/plain": [
       "101"
      ]
     },
     "execution_count": 153,
     "metadata": {},
     "output_type": "execute_result"
    }
   ],
   "source": [
    "#Add two numbers\n",
    "\n",
    "#  Always use self for the first argument to instance methods.\n",
    "\n",
    "\n",
    "class Add ():\n",
    "    def __init__(self,a,b):       # self is a var used to save a copy of an object\n",
    "        self.a=a\n",
    "        self.b=b\n",
    "        \n",
    "    def funct(self):\n",
    "        return self.a+self.b\n",
    "    \n",
    "obj= Add(45,56)\n",
    "obj.funct()"
   ]
  },
  {
   "cell_type": "code",
   "execution_count": 154,
   "id": "7d96ce69",
   "metadata": {},
   "outputs": [
    {
     "name": "stdout",
     "output_type": "stream",
     "text": [
      "12\n",
      "36\n"
     ]
    }
   ],
   "source": [
    "# square of a number and cube of a number:\n",
    "\n",
    "class Mathoperation():\n",
    "    def __init__(self,a,b):\n",
    "        self.a=a\n",
    "        self.b=b\n",
    "        \n",
    "    def multiplication(self):  # write a function and do multiplication \n",
    "        return self.a*self.b\n",
    "    \n",
    "    def cube(self):          # write a function and do cube\n",
    "        return self.a**self.b\n",
    "    \n",
    "obj=Mathoperation(6,2)      #create an object and call class\n",
    "\n",
    "sov=obj.multiplication()       #call multiplication function and assigned the value to variable sov\n",
    "print(sov)\n",
    "\n",
    "sov1=obj.cube()\n",
    "print(sov1)"
   ]
  },
  {
   "cell_type": "code",
   "execution_count": 15,
   "id": "3fa88af5",
   "metadata": {},
   "outputs": [
    {
     "name": "stdout",
     "output_type": "stream",
     "text": [
      "12\n",
      "36\n"
     ]
    }
   ],
   "source": [
    "# square of a number and cube of a number:\n",
    "\n",
    "class mathoperation():\n",
    "    def __init__(self,a,b):\n",
    "        self.a=a\n",
    "        self.b=b\n",
    "        \n",
    "    def multiplication(self):  # write a function and do multiplication \n",
    "        return self.a*self.b\n",
    "    \n",
    "    def cube(self):          # write a function and do cube\n",
    "        return self.a*self.a\n",
    "    \n",
    "obj=mathoperation(6,2)      #create an object and call class\n",
    "\n",
    "sov=obj.multiplication()       #call multiplication function and assigned the value to variable sov\n",
    "print(sov)\n",
    "\n",
    "sov1=obj.cube()\n",
    "print(sov1)"
   ]
  },
  {
   "cell_type": "code",
   "execution_count": 155,
   "id": "f113e00b",
   "metadata": {},
   "outputs": [
    {
     "name": "stdout",
     "output_type": "stream",
     "text": [
      "Hi,i'm Shu. and my age is 34.\n",
      "You're eligible to vote \n"
     ]
    }
   ],
   "source": [
    "class Person():\n",
    "    def __init__(self):\n",
    "        self.name=\"Shu\"\n",
    "        self.age=34\n",
    "        \n",
    "    def talk(self):\n",
    "        print(f\"Hi,i'm {self.name}. and my age is {self.age}.\")\n",
    "        \n",
    "    def vote(self):\n",
    "        if self.age<18:\n",
    "            print(\"You're not eligible to vote \")\n",
    "            \n",
    "        else:\n",
    "            print(\"You're eligible to vote \")\n",
    "            \n",
    "obj=Person()\n",
    "\n",
    "obj.talk()\n",
    "obj.vote()"
   ]
  },
  {
   "cell_type": "code",
   "execution_count": 156,
   "id": "a2daf397",
   "metadata": {},
   "outputs": [
    {
     "name": "stdout",
     "output_type": "stream",
     "text": [
      "\n",
      "Hi,i'm Sam and my age is 15.\n",
      "You're not eligible to vote \n",
      "\n",
      "Hi,i'm Mat and my age is 19.\n",
      "You're eligible to vote \n"
     ]
    }
   ],
   "source": [
    "class Person():\n",
    "    def __init__(self,name,age):\n",
    "        self.name=name\n",
    "        self.age=age\n",
    "        \n",
    "    def talk(self):\n",
    "        print(f\"\\nHi,i'm {self.name} and my age is {self.age}.\")\n",
    "        \n",
    "    def vote(self):\n",
    "        if self.age<18:\n",
    "            print(\"You're not eligible to vote \")\n",
    "            \n",
    "        else:\n",
    "            print(\"You're eligible to vote \")\n",
    "            \n",
    "            \n",
    "object1=Person(\"Sam\",15)\n",
    "object2=Person(\"Mat\",19)\n",
    "\n",
    "object1.talk()\n",
    "object1.vote()\n",
    "\n",
    "object2.talk()\n",
    "object2.vote()\n",
    "            "
   ]
  },
  {
   "cell_type": "code",
   "execution_count": 157,
   "id": "83131d07",
   "metadata": {},
   "outputs": [
    {
     "name": "stdout",
     "output_type": "stream",
     "text": [
      "\n",
      "Maximum speed is 67.\n",
      "set speed is 76.\n",
      "\n",
      "Maximum speed is 65.\n",
      "set speed is 77.\n"
     ]
    }
   ],
   "source": [
    "class Car():\n",
    "    \n",
    "    def __init__(self,year,speed):\n",
    "        self.year=year\n",
    "        self.speed=speed\n",
    "        \n",
    "    def getspeed(self):\n",
    "        print(f\"\\nMaximum speed is {self.speed}.\")\n",
    "        \n",
    "    def set_speed(self,speed):\n",
    "        self.speed=speed\n",
    "        print(f\"set speed is {self.speed}.\")\n",
    "\n",
    "BMW=Car(2015,67)\n",
    "FORD=Car(2019,65)\n",
    "\n",
    "BMW.getspeed()\n",
    "BMW.set_speed(76)\n",
    "\n",
    "\n",
    "FORD.getspeed()\n",
    "FORD.set_speed(77)"
   ]
  },
  {
   "cell_type": "code",
   "execution_count": 90,
   "id": "4a2e1282",
   "metadata": {},
   "outputs": [
    {
     "name": "stdout",
     "output_type": "stream",
     "text": [
      "8\n",
      "12\n"
     ]
    }
   ],
   "source": [
    "class Rectangle():\n",
    "    # length = 2\n",
    "    # breadth = 4\n",
    "    \n",
    "    def __init__(self, l, b):                 # l = 2 , b = 4\n",
    "        self.length = l\n",
    "        self.breadth = b\n",
    "\n",
    "    def getArea(self):\n",
    "        print(self.length * self.breadth)\n",
    "\n",
    "    def getPerimeter(self):\n",
    "        print( 2*(self.length + self.breadth))\n",
    "\n",
    "rect = Rectangle(2,4)\n",
    "\n",
    "rect.getArea()\n",
    "rect.getPerimeter()"
   ]
  },
  {
   "cell_type": "markdown",
   "id": "dcd6b38f",
   "metadata": {},
   "source": [
    "# Inheritance--"
   ]
  },
  {
   "cell_type": "markdown",
   "id": "72081b99",
   "metadata": {},
   "source": [
    "Inheritance is a mechanism for a new class to use the feature of another class."
   ]
  },
  {
   "cell_type": "markdown",
   "id": "3b06410e",
   "metadata": {},
   "source": [
    "The newly formed class is a derived class (or child class). Similarly, the existing class is a base class (or parent class)."
   ]
  },
  {
   "cell_type": "raw",
   "id": "838140ff",
   "metadata": {},
   "source": [
    "Types of Inheritance\n",
    "\n",
    "1 . single inheritance\n",
    "2.  multiple inheritance \n",
    "3 . Multilevel inheritance\n",
    "4 . Hirarical inheritance\n",
    "5 . Hybrid inheritance "
   ]
  },
  {
   "cell_type": "markdown",
   "id": "d44bda10",
   "metadata": {},
   "source": [
    "### Single Inheritance"
   ]
  },
  {
   "cell_type": "code",
   "execution_count": 158,
   "id": "5a33188e",
   "metadata": {},
   "outputs": [
    {
     "name": "stdout",
     "output_type": "stream",
     "text": [
      "In ECE department, there are total 40 students.\n",
      "In CSE department, there are total 50 students.\n"
     ]
    }
   ],
   "source": [
    "class Students():                    #parent class\n",
    "    \n",
    "    def cse(self):\n",
    "        print(\"In CSE department, there are total 50 students.\")\n",
    "        \n",
    "class Students1(students):          #child class\n",
    "    def ece(self):\n",
    "        print(\"In ECE department, there are total 40 students.\")\n",
    "        \n",
    "obj=Students1()\n",
    "obj.ece()\n",
    "obj.cse()"
   ]
  },
  {
   "cell_type": "code",
   "execution_count": 159,
   "id": "b2f8baf7",
   "metadata": {},
   "outputs": [
    {
     "ename": "AttributeError",
     "evalue": "'Students' object has no attribute 'ece'",
     "output_type": "error",
     "traceback": [
      "\u001b[1;31m---------------------------------------------------------------------------\u001b[0m",
      "\u001b[1;31mAttributeError\u001b[0m                            Traceback (most recent call last)",
      "Cell \u001b[1;32mIn[159], line 11\u001b[0m\n\u001b[0;32m      8\u001b[0m         \u001b[38;5;28mprint\u001b[39m(\u001b[38;5;124m\"\u001b[39m\u001b[38;5;124mIn ECE department, there are total 40 students.\u001b[39m\u001b[38;5;124m\"\u001b[39m)\n\u001b[0;32m     10\u001b[0m obj\u001b[38;5;241m=\u001b[39mStudents()   \u001b[38;5;66;03m#if we create object of students then it will show error\u001b[39;00m\n\u001b[1;32m---> 11\u001b[0m \u001b[43mobj\u001b[49m\u001b[38;5;241;43m.\u001b[39;49m\u001b[43mece\u001b[49m()\n\u001b[0;32m     12\u001b[0m obj\u001b[38;5;241m.\u001b[39mcse()\n",
      "\u001b[1;31mAttributeError\u001b[0m: 'Students' object has no attribute 'ece'"
     ]
    }
   ],
   "source": [
    "class Students():                    #parent class\n",
    "    \n",
    "    def cse(self):\n",
    "        print(\"In CSE department, there are total 50 students.\")\n",
    "        \n",
    "class Students1(students):          #child class\n",
    "    def ece(self):\n",
    "        print(\"In ECE department, there are total 40 students.\")\n",
    "        \n",
    "obj=Students()   #if we create object of students then it will show error\n",
    "obj.ece()\n",
    "obj.cse()"
   ]
  },
  {
   "cell_type": "code",
   "execution_count": 160,
   "id": "0ac34d97",
   "metadata": {},
   "outputs": [
    {
     "name": "stdout",
     "output_type": "stream",
     "text": [
      "I am Parent class\n",
      "I am Child class\n"
     ]
    }
   ],
   "source": [
    "class Parent():                              #Parent class\n",
    "    def fun1(self):\n",
    "        print(\"I am Parent class\")\n",
    "        \n",
    "class Child(Parent):                         #child class\n",
    "    def fun2(self):\n",
    "        print(\"I am Child class\")\n",
    "        \n",
    "obj=Child()\n",
    "obj.fun1()\n",
    "obj.fun2()"
   ]
  },
  {
   "cell_type": "code",
   "execution_count": 161,
   "id": "0a8076e9",
   "metadata": {},
   "outputs": [
    {
     "name": "stdout",
     "output_type": "stream",
     "text": [
      "\n",
      "Car Manufacturing year is: 2022\n",
      "\n",
      "137\n",
      "Trunk has been opened\n",
      "\n",
      "Car Manufacturing year is: 2011\n",
      "Car speed is: 67\n"
     ]
    }
   ],
   "source": [
    "class Car(): #here we are creating class 1     #name of class start with capital letter\n",
    "    \n",
    "    def __init__(self,year,speed):       \n",
    "        self.year=year\n",
    "        self.speed=speed            #self called object\n",
    "        \n",
    "    def get_year(self):\n",
    "        print(\"\\nCar Manufacturing year is:\",self.year)         #we created two function to get the year and speed of the car\n",
    "                                                                #\\n for changing the line\n",
    "    def get_speed(self):\n",
    "        print(\"Car speed is:\",self.speed)\n",
    "        \n",
    "obj1=Car(2022,56)             #we created object for the class car \n",
    "obj1.get_year()\n",
    "\n",
    "class BMW(car):                    #created 2nd class\n",
    "                                #we want to use the feature of class 1, that's why we pass car in BMW \n",
    "    def accelerate(self):\n",
    "        print(\"\\n137\")\n",
    "        \n",
    "    def open_trunk(self):\n",
    "        print(\"Trunk has been opened\")\n",
    "        \n",
    "obj=BMW(2011,67)              #here we created the object \n",
    "obj.accelerate()\n",
    "obj.open_trunk()\n",
    "obj.get_year()\n",
    "obj.get_speed()"
   ]
  },
  {
   "cell_type": "code",
   "execution_count": 117,
   "id": "c2b44bc8",
   "metadata": {},
   "outputs": [
    {
     "name": "stdout",
     "output_type": "stream",
     "text": [
      "Name of the Employee is - Ak\n",
      "Age of the Employee is - 24\n",
      "Salary of the Employee is - 30000\n",
      "Gender of the Employee is - F\n",
      "\n",
      "Contact No of the Employee is - 7686965775\n"
     ]
    }
   ],
   "source": [
    "class Employee():\n",
    "    \n",
    "    def __init__(self,name,age,salary,gender):\n",
    "        self.name=name\n",
    "        self.age=age\n",
    "        self.salary=salary\n",
    "        self.gender=gender\n",
    "        \n",
    "    def employee_details(self):\n",
    "        \n",
    "        print(\"Name of the Employee is -\",self.name)\n",
    "        print(\"Age of the Employee is -\",self.age)\n",
    "        print(\"Salary of the Employee is -\",self.salary)\n",
    "        print(\"Gender of the Employee is -\",self.gender)\n",
    "        \n",
    "class Personal_details(Employee):\n",
    "    \n",
    "    def employee_personal_details(self,mobile_num):\n",
    "        print(\"\\nContact No of the Employee is -\",mobile_num)\n",
    "        \n",
    "obj=Personal_details('Ak',24,30000,'F')\n",
    "obj.employee_details()\n",
    "\n",
    "obj.employee_personal_details(7686965775)"
   ]
  },
  {
   "cell_type": "markdown",
   "id": "0e34d277",
   "metadata": {},
   "source": [
    "### Multiple Inheritance--"
   ]
  },
  {
   "cell_type": "markdown",
   "id": "56af7b93",
   "metadata": {},
   "source": [
    "Inheritance is the mechanism to achieve the re-usability of code as one class(child class) can derive the properties of another class(parent class). It also provides transitivity ie. if class C inherits from P then all the sub-classes of C would also inherit from P.\n",
    " \n",
    "\n",
    "Multiple Inheritance \n",
    "When a class is derived from more than one base class it is called multiple Inheritance. The derived class inherits all the features of the base case."
   ]
  },
  {
   "cell_type": "code",
   "execution_count": 119,
   "id": "52464b00",
   "metadata": {},
   "outputs": [
    {
     "name": "stdout",
     "output_type": "stream",
     "text": [
      "Mother Name : Rin\n",
      "father Name : Tink\n"
     ]
    }
   ],
   "source": [
    "#Example\n",
    "\n",
    "#Base class1\n",
    "class Mother():\n",
    "    mother_name=\"\"\n",
    "    def mother(self):\n",
    "        print(self.mother_name)\n",
    "\n",
    "#Base class2\n",
    "class Father():\n",
    "    father_name=\"\"\n",
    "    def father(self):\n",
    "        print(self.father_name)\n",
    "        \n",
    "#Child class\n",
    "class Son(Mother,Father):\n",
    "    def parents(self):\n",
    "        print(\"Mother Name :\",self.mother_name)\n",
    "        print(\"father Name :\",self.father_name)\n",
    "        \n",
    "        \n",
    "#creating object\n",
    "obj=Son()\n",
    "obj.mother_name='Rin'\n",
    "obj.father_name='Tink'\n",
    "\n",
    "obj.parents()\n"
   ]
  },
  {
   "cell_type": "code",
   "execution_count": 123,
   "id": "428bec2b",
   "metadata": {},
   "outputs": [
    {
     "name": "stdout",
     "output_type": "stream",
     "text": [
      "Mammals can give direct birth.\n",
      "Winged animals can flap.\n",
      "\n",
      "I am in child class\n"
     ]
    }
   ],
   "source": [
    "class Mammal:\n",
    "    def mammal_info(self):\n",
    "        print(\"Mammals can give direct birth.\")\n",
    "\n",
    "class WingedAnimal:\n",
    "    def winged_animal_info(self):\n",
    "        print(\"Winged animals can flap.\")\n",
    "\n",
    "class Bat(Mammal, WingedAnimal):\n",
    "    \n",
    "    def child(self):\n",
    "        print(\"\\nI am in child class\")\n",
    "\n",
    "# create an object of Bat class\n",
    "b1 = Bat()\n",
    "\n",
    "b1.mammal_info()\n",
    "b1.winged_animal_info()\n",
    "b1.child()"
   ]
  },
  {
   "cell_type": "markdown",
   "id": "e5ec694d",
   "metadata": {},
   "source": [
    "# Multilevel Inheritance--"
   ]
  },
  {
   "cell_type": "markdown",
   "id": "b17cee26",
   "metadata": {},
   "source": [
    "Multilevel Inheritance in Python is a type of Inheritance that involves inheriting a class that has already inherited some other class. That means the derived/subclass class inherits the features of the base class/parent class, and the new derived class inherits the features of the derived class."
   ]
  },
  {
   "cell_type": "code",
   "execution_count": 127,
   "id": "c8af402c",
   "metadata": {},
   "outputs": [
    {
     "name": "stdout",
     "output_type": "stream",
     "text": [
      "This is my family\n",
      "\n",
      "Child name : Ak\n",
      "Father name : Shu\n",
      "Mother name : Ak\n"
     ]
    }
   ],
   "source": [
    "class Family(): #Base class\n",
    "    \n",
    "    def show(self):\n",
    "        print(\"This is my family\")\n",
    "        \n",
    "class Father(Family):   #Intermediate class1\n",
    "    name_father=\"\"\n",
    "    \n",
    "    def show_father(self):\n",
    "        print(self.name_father)\n",
    "        \n",
    "class Mother(Father):     #Intermediate class2\n",
    "    name_Mother=\"\"\n",
    "    \n",
    "    def show_Mother(self):\n",
    "        print(self.name_Mother)\n",
    "        \n",
    "class Child(Mother):     #Derived class\n",
    "    name_child=\"\"\n",
    "    \n",
    "    def show2(self):\n",
    "        print(\"\\nChild name :\",self.name_Mother)\n",
    "        print(\"Father name :\",self.name_father)\n",
    "        print(\"Mother name :\",self.name_Mother)\n",
    "        \n",
    "\n",
    "obj=Child()            #Deriver code\n",
    "obj.name_father=\"Shu\"\n",
    "obj.name_Mother=\"Ak\"\n",
    "obj.name_child=\"Tatv\"\n",
    "\n",
    "obj.show()\n",
    "obj.show2()\n"
   ]
  },
  {
   "cell_type": "code",
   "execution_count": 133,
   "id": "b420f223",
   "metadata": {},
   "outputs": [
    {
     "name": "stdout",
     "output_type": "stream",
     "text": [
      "Lal mani\n",
      "Grandfather name : Lal mani\n",
      "Father name : Rampal\n",
      "Son name : Prince\n"
     ]
    }
   ],
   "source": [
    "# Base class\n",
    "class Grandfather:\n",
    "    \n",
    "    def __init__(self, grandfathername):\n",
    "        self.grandfathername = grandfathername\n",
    "\n",
    "# Intermediate class\n",
    "class Father(Grandfather):\n",
    "    def __init__(self, fathername, grandfathername):\n",
    "        self.fathername = fathername\n",
    "\n",
    "        # invoking constructor of Grandfather class\n",
    "        Grandfather.__init__(self, grandfathername)\n",
    "\n",
    "# Derived class\n",
    "class Son(Father):\n",
    "    def __init__(self,sonname, fathername, grandfathername):\n",
    "        self.sonname = sonname\n",
    "\n",
    "        # invoking constructor of Father class\n",
    "        Father.__init__(self, fathername, grandfathername)\n",
    "\n",
    "    def print_name(self):\n",
    "        print('Grandfather name :', self.grandfathername)\n",
    "        print(\"Father name :\", self.fathername)\n",
    "        print(\"Son name :\", self.sonname)\n",
    "\n",
    "# Driver code\n",
    "s1 = Son('Prince', 'Rampal', 'Lal mani')\n",
    "print(s1.grandfathername)\n",
    "s1.print_name()\n"
   ]
  },
  {
   "cell_type": "markdown",
   "id": "5beae660",
   "metadata": {},
   "source": [
    "# Hirarical inheritance--"
   ]
  },
  {
   "cell_type": "markdown",
   "id": "96d768ad",
   "metadata": {},
   "source": [
    "When more than one derived class are created from a single base this type of inheritance is called hierarchical inheritance."
   ]
  },
  {
   "cell_type": "code",
   "execution_count": 165,
   "id": "e60d0da7",
   "metadata": {},
   "outputs": [
    {
     "name": "stdout",
     "output_type": "stream",
     "text": [
      "\n",
      "This function is in parent class.\n",
      "\n",
      "This function is in child 1.\n",
      "\n",
      "This function is in parent class.\n",
      "\n",
      "This function is in child 2.\n"
     ]
    }
   ],
   "source": [
    "# Base class\n",
    "\n",
    "class Parent:\n",
    "    def func1(self):\n",
    "        print(\"\\nThis function is in parent class.\")\n",
    " \n",
    "# Derived class1\n",
    " \n",
    " \n",
    "class Child1(Parent):\n",
    "    def func2(self):\n",
    "        print(\"\\nThis function is in child 1.\")\n",
    " \n",
    "# Derivied class2\n",
    " \n",
    " \n",
    "class Child2(Parent):\n",
    "    def func3(self):\n",
    "        print(\"\\nThis function is in child 2.\")\n",
    " \n",
    " \n",
    "# Driver's code\n",
    "object1 = Child1()\n",
    "object2 = Child2()\n",
    "object1.func1()\n",
    "object1.func2()\n",
    "object2.func1()\n",
    "object2.func3()"
   ]
  },
  {
   "cell_type": "markdown",
   "id": "70cd57e6",
   "metadata": {},
   "source": [
    "# Hybrid Inheritance--"
   ]
  },
  {
   "cell_type": "code",
   "execution_count": null,
   "id": "872440dc",
   "metadata": {},
   "outputs": [],
   "source": [
    "Inheritance consisting of multiple types of inheritance is called hybrid inheritance.\n",
    "\n"
   ]
  }
 ],
 "metadata": {
  "kernelspec": {
   "display_name": "Python 3 (ipykernel)",
   "language": "python",
   "name": "python3"
  },
  "language_info": {
   "codemirror_mode": {
    "name": "ipython",
    "version": 3
   },
   "file_extension": ".py",
   "mimetype": "text/x-python",
   "name": "python",
   "nbconvert_exporter": "python",
   "pygments_lexer": "ipython3",
   "version": "3.10.9"
  }
 },
 "nbformat": 4,
 "nbformat_minor": 5
}
