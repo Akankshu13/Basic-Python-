{
 "cells": [
  {
   "cell_type": "markdown",
   "id": "9d946b6c",
   "metadata": {},
   "source": [
    "# Exception"
   ]
  },
  {
   "cell_type": "markdown",
   "id": "9b589bde",
   "metadata": {},
   "source": [
    "Errors that occur at runtime (after passing the syntax test) are called exceptions or logical errors."
   ]
  },
  {
   "cell_type": "markdown",
   "id": "4128dd79",
   "metadata": {},
   "source": [
    "For instance, they occur when we\n",
    "\n",
    "try to open a file(for reading) that does not exist (FileNotFoundError)\n",
    "\n",
    "try to divide a number by zero (ZeroDivisionError)\n",
    "\n",
    "try to import a module that does not exist (ImportError) and so on.\n",
    "\n",
    "Whenever these types of runtime errors occur, Python creates an exception object.\n",
    "\n",
    "If not handled properly, it prints a traceback to that error along with some details about why that error occurred."
   ]
  },
  {
   "cell_type": "markdown",
   "id": "473179ca",
   "metadata": {},
   "source": [
    "# Exceptional Handling"
   ]
  },
  {
   "cell_type": "raw",
   "id": "22102db7",
   "metadata": {},
   "source": [
    "To learn we are having 5 error types\n",
    "\n",
    "-ZeroDivisionError\n",
    "-NameError\n",
    "-ValueError\n",
    "-Indentation Error\n",
    "-IOE(input and output error) [Error]"
   ]
  },
  {
   "cell_type": "markdown",
   "id": "1eb03c85",
   "metadata": {},
   "source": [
    "# Zero Division Error"
   ]
  },
  {
   "cell_type": "code",
   "execution_count": 1,
   "id": "3c96ad5c",
   "metadata": {},
   "outputs": [
    {
     "data": {
      "text/plain": [
       "0.0"
      ]
     },
     "execution_count": 1,
     "metadata": {},
     "output_type": "execute_result"
    }
   ],
   "source": [
    "a=0/12\n",
    "a"
   ]
  },
  {
   "cell_type": "code",
   "execution_count": 2,
   "id": "bbace1e7",
   "metadata": {},
   "outputs": [
    {
     "ename": "ZeroDivisionError",
     "evalue": "division by zero",
     "output_type": "error",
     "traceback": [
      "\u001b[1;31m---------------------------------------------------------------------------\u001b[0m",
      "\u001b[1;31mZeroDivisionError\u001b[0m                         Traceback (most recent call last)",
      "Cell \u001b[1;32mIn[2], line 1\u001b[0m\n\u001b[1;32m----> 1\u001b[0m a\u001b[38;5;241m=\u001b[39m\u001b[38;5;241;43m12\u001b[39;49m\u001b[38;5;241;43m/\u001b[39;49m\u001b[38;5;241;43m0\u001b[39;49m\n\u001b[0;32m      2\u001b[0m a\n",
      "\u001b[1;31mZeroDivisionError\u001b[0m: division by zero"
     ]
    }
   ],
   "source": [
    "a=12/0\n",
    "a"
   ]
  },
  {
   "cell_type": "markdown",
   "id": "683b2af0",
   "metadata": {},
   "source": [
    "This is zero division error.\n",
    "Means as maths have infinity concept but cpu has limits [cpu works with numbers so infinite means not a number]\n"
   ]
  },
  {
   "cell_type": "markdown",
   "id": "3f5c8223",
   "metadata": {},
   "source": [
    "# Name Error"
   ]
  },
  {
   "cell_type": "code",
   "execution_count": 3,
   "id": "14ffd5bc",
   "metadata": {},
   "outputs": [
    {
     "ename": "NameError",
     "evalue": "name 'A' is not defined",
     "output_type": "error",
     "traceback": [
      "\u001b[1;31m---------------------------------------------------------------------------\u001b[0m",
      "\u001b[1;31mNameError\u001b[0m                                 Traceback (most recent call last)",
      "Cell \u001b[1;32mIn[3], line 2\u001b[0m\n\u001b[0;32m      1\u001b[0m a\u001b[38;5;241m=\u001b[39m\u001b[38;5;124m'\u001b[39m\u001b[38;5;124mamita\u001b[39m\u001b[38;5;124m'\u001b[39m\n\u001b[1;32m----> 2\u001b[0m \u001b[38;5;28mprint\u001b[39m(\u001b[43mA\u001b[49m)\n",
      "\u001b[1;31mNameError\u001b[0m: name 'A' is not defined"
     ]
    }
   ],
   "source": [
    "a='amita'\n",
    "print(A)"
   ]
  },
  {
   "cell_type": "markdown",
   "id": "52fd29c1",
   "metadata": {},
   "source": [
    "# Value Error"
   ]
  },
  {
   "cell_type": "code",
   "execution_count": 4,
   "id": "ee8addd4",
   "metadata": {},
   "outputs": [
    {
     "ename": "ValueError",
     "evalue": "invalid literal for int() with base 10: 'sam'",
     "output_type": "error",
     "traceback": [
      "\u001b[1;31m---------------------------------------------------------------------------\u001b[0m",
      "\u001b[1;31mValueError\u001b[0m                                Traceback (most recent call last)",
      "Cell \u001b[1;32mIn[4], line 2\u001b[0m\n\u001b[0;32m      1\u001b[0m a\u001b[38;5;241m=\u001b[39m\u001b[38;5;124m\"\u001b[39m\u001b[38;5;124msam\u001b[39m\u001b[38;5;124m\"\u001b[39m\n\u001b[1;32m----> 2\u001b[0m b\u001b[38;5;241m=\u001b[39m\u001b[38;5;28;43mint\u001b[39;49m\u001b[43m(\u001b[49m\u001b[43ma\u001b[49m\u001b[43m)\u001b[49m\n\u001b[0;32m      3\u001b[0m \u001b[38;5;28mprint\u001b[39m(a)\n",
      "\u001b[1;31mValueError\u001b[0m: invalid literal for int() with base 10: 'sam'"
     ]
    }
   ],
   "source": [
    "a=\"sam\"\n",
    "b=int(a)             \n",
    "print(a)"
   ]
  },
  {
   "cell_type": "markdown",
   "id": "f26460f7",
   "metadata": {},
   "source": [
    "a is a string but we use int to copy the value of into b"
   ]
  },
  {
   "cell_type": "markdown",
   "id": "4b726ff6",
   "metadata": {},
   "source": [
    "# Indentation Error"
   ]
  },
  {
   "cell_type": "code",
   "execution_count": 5,
   "id": "10a26e2c",
   "metadata": {},
   "outputs": [
    {
     "name": "stdout",
     "output_type": "stream",
     "text": [
      "0,1,2,3,4,5,6,7,8,9,"
     ]
    }
   ],
   "source": [
    "for i in range(0,10):\n",
    "    print(i,end=\",\")"
   ]
  },
  {
   "cell_type": "code",
   "execution_count": 6,
   "id": "8816a02c",
   "metadata": {},
   "outputs": [
    {
     "ename": "IndentationError",
     "evalue": "expected an indented block after 'for' statement on line 1 (341571463.py, line 2)",
     "output_type": "error",
     "traceback": [
      "\u001b[1;36m  Cell \u001b[1;32mIn[6], line 2\u001b[1;36m\u001b[0m\n\u001b[1;33m    print(i,end=\",\")\u001b[0m\n\u001b[1;37m    ^\u001b[0m\n\u001b[1;31mIndentationError\u001b[0m\u001b[1;31m:\u001b[0m expected an indented block after 'for' statement on line 1\n"
     ]
    }
   ],
   "source": [
    "for i in range(0,10):\n",
    "print(i,end=\",\")"
   ]
  },
  {
   "cell_type": "markdown",
   "id": "ed634b07",
   "metadata": {},
   "source": [
    "# IOE Error"
   ]
  },
  {
   "cell_type": "code",
   "execution_count": 7,
   "id": "f6f7d950",
   "metadata": {},
   "outputs": [
    {
     "ename": "FileNotFoundError",
     "evalue": "[Errno 2] No such file or directory: 'D:\\\\Top Mentor\\\\Python\\\\27May notes file and execption handling\\\\kj.txt'",
     "output_type": "error",
     "traceback": [
      "\u001b[1;31m---------------------------------------------------------------------------\u001b[0m",
      "\u001b[1;31mFileNotFoundError\u001b[0m                         Traceback (most recent call last)",
      "Cell \u001b[1;32mIn[7], line 1\u001b[0m\n\u001b[1;32m----> 1\u001b[0m \u001b[38;5;28;01mwith\u001b[39;00m \u001b[38;5;28;43mopen\u001b[39;49m\u001b[43m(\u001b[49m\u001b[38;5;124;43m'\u001b[39;49m\u001b[38;5;124;43mD:\u001b[39;49m\u001b[38;5;130;43;01m\\\\\u001b[39;49;00m\u001b[38;5;124;43mTop Mentor\u001b[39;49m\u001b[38;5;130;43;01m\\\\\u001b[39;49;00m\u001b[38;5;124;43mPython\u001b[39;49m\u001b[38;5;130;43;01m\\\\\u001b[39;49;00m\u001b[38;5;124;43m27May notes file and execption handling\u001b[39;49m\u001b[38;5;130;43;01m\\\\\u001b[39;49;00m\u001b[38;5;124;43mkj.txt\u001b[39;49m\u001b[38;5;124;43m'\u001b[39;49m\u001b[43m,\u001b[49m\u001b[38;5;124;43m'\u001b[39;49m\u001b[38;5;124;43mr\u001b[39;49m\u001b[38;5;124;43m'\u001b[39;49m\u001b[43m)\u001b[49m\u001b[38;5;28;01mas\u001b[39;00m f:\n\u001b[0;32m      2\u001b[0m     \u001b[38;5;28mprint\u001b[39m(f\u001b[38;5;241m.\u001b[39mread())\n",
      "File \u001b[1;32m~\\anaconda\\lib\\site-packages\\IPython\\core\\interactiveshell.py:282\u001b[0m, in \u001b[0;36m_modified_open\u001b[1;34m(file, *args, **kwargs)\u001b[0m\n\u001b[0;32m    275\u001b[0m \u001b[38;5;28;01mif\u001b[39;00m file \u001b[38;5;129;01min\u001b[39;00m {\u001b[38;5;241m0\u001b[39m, \u001b[38;5;241m1\u001b[39m, \u001b[38;5;241m2\u001b[39m}:\n\u001b[0;32m    276\u001b[0m     \u001b[38;5;28;01mraise\u001b[39;00m \u001b[38;5;167;01mValueError\u001b[39;00m(\n\u001b[0;32m    277\u001b[0m         \u001b[38;5;124mf\u001b[39m\u001b[38;5;124m\"\u001b[39m\u001b[38;5;124mIPython won\u001b[39m\u001b[38;5;124m'\u001b[39m\u001b[38;5;124mt let you open fd=\u001b[39m\u001b[38;5;132;01m{\u001b[39;00mfile\u001b[38;5;132;01m}\u001b[39;00m\u001b[38;5;124m by default \u001b[39m\u001b[38;5;124m\"\u001b[39m\n\u001b[0;32m    278\u001b[0m         \u001b[38;5;124m\"\u001b[39m\u001b[38;5;124mas it is likely to crash IPython. If you know what you are doing, \u001b[39m\u001b[38;5;124m\"\u001b[39m\n\u001b[0;32m    279\u001b[0m         \u001b[38;5;124m\"\u001b[39m\u001b[38;5;124myou can use builtins\u001b[39m\u001b[38;5;124m'\u001b[39m\u001b[38;5;124m open.\u001b[39m\u001b[38;5;124m\"\u001b[39m\n\u001b[0;32m    280\u001b[0m     )\n\u001b[1;32m--> 282\u001b[0m \u001b[38;5;28;01mreturn\u001b[39;00m io_open(file, \u001b[38;5;241m*\u001b[39margs, \u001b[38;5;241m*\u001b[39m\u001b[38;5;241m*\u001b[39mkwargs)\n",
      "\u001b[1;31mFileNotFoundError\u001b[0m: [Errno 2] No such file or directory: 'D:\\\\Top Mentor\\\\Python\\\\27May notes file and execption handling\\\\kj.txt'"
     ]
    }
   ],
   "source": [
    "with open('D:\\\\Top Mentor\\\\Python\\\\27May notes file and execption handling\\\\kj.txt','r')as f:\n",
    "    print(f.read())                                  #there is no file in that name"
   ]
  },
  {
   "cell_type": "markdown",
   "id": "e2789e3a",
   "metadata": {},
   "source": [
    "# Using Exceptional blocks we can handle the error:"
   ]
  },
  {
   "cell_type": "raw",
   "id": "da15bd00",
   "metadata": {},
   "source": [
    "# syntax:\n",
    "\n",
    "try:\n",
    "    # logic \n",
    "except:\n",
    "    # logic \n",
    "    "
   ]
  },
  {
   "cell_type": "markdown",
   "id": "834543a1",
   "metadata": {},
   "source": [
    "The try...except block is used to handle exceptions in Python."
   ]
  },
  {
   "cell_type": "raw",
   "id": "119175b8",
   "metadata": {},
   "source": [
    "Here, we have placed the code that might generate an exception inside the try block. Every try block is followed by an except block.\n",
    "\n",
    "When an exception occurs, it is caught by the except block. The except block cannot be used without the try block."
   ]
  },
  {
   "cell_type": "code",
   "execution_count": 9,
   "id": "cb18735e",
   "metadata": {},
   "outputs": [
    {
     "name": "stdout",
     "output_type": "stream",
     "text": [
      "Error: Zero Division Error \n",
      "number2 can not be 0\n"
     ]
    }
   ],
   "source": [
    "try:\n",
    "\n",
    "    number1=78\n",
    "    number2=0\n",
    "    Divide=number1/number2\n",
    "\n",
    "    print(\"Division =\",Divide)\n",
    "\n",
    "except:\n",
    "    print(\"Error: Zero Division Error \\nnumber2 can not be 0\")"
   ]
  },
  {
   "cell_type": "markdown",
   "id": "cfbb4739",
   "metadata": {},
   "source": [
    "In the example, we are trying to divide a number by 0. Here, this code generates an exception.\n",
    "\n",
    "To handle the exception, we have put the code, Divide=number1/number2 inside the try block. Now when an exception occurs, the rest of the code inside the try block is skipped.\n",
    "\n",
    "The except block catches the exception and statements inside the except block are executed."
   ]
  },
  {
   "cell_type": "raw",
   "id": "05909e38",
   "metadata": {},
   "source": [
    "If none of the statements in the try block generates an exception, the except block is skipped."
   ]
  },
  {
   "cell_type": "code",
   "execution_count": 10,
   "id": "6a7a2856",
   "metadata": {},
   "outputs": [
    {
     "name": "stdout",
     "output_type": "stream",
     "text": [
      "division by zero\n"
     ]
    }
   ],
   "source": [
    "#what is cpu actually facing\n",
    "\n",
    "try:\n",
    "    a=10\n",
    "    b=0\n",
    "    c=a/b\n",
    "    print(c)\n",
    "except Exception as e:\n",
    "    print(e)"
   ]
  },
  {
   "cell_type": "code",
   "execution_count": 11,
   "id": "67af8fe2",
   "metadata": {},
   "outputs": [
    {
     "name": "stdout",
     "output_type": "stream",
     "text": [
      "name 'A' is not defined\n"
     ]
    }
   ],
   "source": [
    "try:\n",
    "    a='Python'\n",
    "    print(A)\n",
    "    \n",
    "except Exception as e:\n",
    "    print(e)"
   ]
  },
  {
   "cell_type": "code",
   "execution_count": 12,
   "id": "b466d1e1",
   "metadata": {},
   "outputs": [
    {
     "name": "stdout",
     "output_type": "stream",
     "text": [
      "invalid literal for int() with base 10: 'Python'\n"
     ]
    }
   ],
   "source": [
    "try:\n",
    "    a='Python'\n",
    "    b=int(a)\n",
    "    print(a)\n",
    "    \n",
    "except Exception as e:\n",
    "    print(e)"
   ]
  },
  {
   "cell_type": "code",
   "execution_count": 13,
   "id": "b45e79b0",
   "metadata": {},
   "outputs": [
    {
     "ename": "IndentationError",
     "evalue": "expected an indented block after 'for' statement on line 2 (1511665976.py, line 3)",
     "output_type": "error",
     "traceback": [
      "\u001b[1;36m  Cell \u001b[1;32mIn[13], line 3\u001b[1;36m\u001b[0m\n\u001b[1;33m    print(i)\u001b[0m\n\u001b[1;37m    ^\u001b[0m\n\u001b[1;31mIndentationError\u001b[0m\u001b[1;31m:\u001b[0m expected an indented block after 'for' statement on line 2\n"
     ]
    }
   ],
   "source": [
    "try:\n",
    "    for i in range(1,9):\n",
    "    print(i)\n",
    "except as Exception as e:\n",
    "    print(e)"
   ]
  },
  {
   "cell_type": "code",
   "execution_count": 14,
   "id": "6200e562",
   "metadata": {},
   "outputs": [
    {
     "ename": "IndentationError",
     "evalue": "expected an indented block after 'try' statement on line 1 (1542052162.py, line 3)",
     "output_type": "error",
     "traceback": [
      "\u001b[1;36m  Cell \u001b[1;32mIn[14], line 3\u001b[1;36m\u001b[0m\n\u001b[1;33m    with open('D:\\\\Top Mentor\\\\Python\\\\27May notes file and execption handling\\\\a.txt','r')as f:\u001b[0m\n\u001b[1;37m    ^\u001b[0m\n\u001b[1;31mIndentationError\u001b[0m\u001b[1;31m:\u001b[0m expected an indented block after 'try' statement on line 1\n"
     ]
    }
   ],
   "source": [
    "try:\n",
    "\n",
    "with open('D:\\\\Top Mentor\\\\Python\\\\27May notes file and execption handling\\\\a.txt','r')as f:\n",
    "    print(f.read())\n",
    "    \n",
    "except Exceptation as e:\n",
    "    print(e)"
   ]
  },
  {
   "cell_type": "code",
   "execution_count": 16,
   "id": "cd9ce55c",
   "metadata": {},
   "outputs": [
    {
     "name": "stdout",
     "output_type": "stream",
     "text": [
      "90\n"
     ]
    }
   ],
   "source": [
    "try:\n",
    "    a=12\n",
    "    b=78\n",
    "    add=a+b\n",
    "    print(add)\n",
    "    \n",
    "except Exceptation as e:\n",
    "    print(e)"
   ]
  },
  {
   "cell_type": "code",
   "execution_count": 17,
   "id": "3172e050",
   "metadata": {},
   "outputs": [],
   "source": [
    "# finally means will execute at any time:\n",
    "# it doesn't matter what is happening in the code [just it will execute at any time]"
   ]
  },
  {
   "cell_type": "code",
   "execution_count": 35,
   "id": "9c8bdfce",
   "metadata": {},
   "outputs": [
    {
     "name": "stdout",
     "output_type": "stream",
     "text": [
      "num3\n",
      "finally\n",
      "Outside of try-except clauses. This statement is always executed.\n"
     ]
    }
   ],
   "source": [
    "num1 =8\n",
    "try:\n",
    "    num2 = int(num1)\n",
    "    num3 = 10/num2\n",
    "\n",
    "\n",
    "except ValueError as e:\n",
    "    print(e)\n",
    "\n",
    "except ZeroDivisionError as e:\n",
    "    print(e)\n",
    "\n",
    "except:\n",
    "    print(\"Some error occurred\")\n",
    "\n",
    "else:\n",
    "    print(\"num3\")\n",
    "\n",
    "finally:\n",
    "    print(\"finally\")\n",
    "\n",
    "print(\"Outside of try-except clauses. This statement is always executed.\")"
   ]
  },
  {
   "cell_type": "code",
   "execution_count": 11,
   "id": "3380e09a",
   "metadata": {},
   "outputs": [
    {
     "name": "stdout",
     "output_type": "stream",
     "text": [
      "Enter your age20\n",
      "You can vote\n"
     ]
    }
   ],
   "source": [
    "#real time solution\n",
    "\n",
    "try:\n",
    "    \n",
    "    age=int(input(\"Enter your age\"))\n",
    "    if age<10:\n",
    "        raise ValueError(\"age below 10 not allowed to vote\")\n",
    "    if age>25:\n",
    "        raise ValueError(\"age greater than 25,Not allowed to vote\")\n",
    "    else:\n",
    "        print(\"You can vote\")\n",
    "except ValueError as v:\n",
    "    print(v)"
   ]
  },
  {
   "cell_type": "raw",
   "id": "248bbf56",
   "metadata": {},
   "source": [
    "# try:\n",
    "    # statements in try clause\n",
    "except:\n",
    "    # statements in except clause (executed when exception thrown in try clause)"
   ]
  },
  {
   "cell_type": "code",
   "execution_count": 18,
   "id": "d4ff5938",
   "metadata": {},
   "outputs": [
    {
     "name": "stdout",
     "output_type": "stream",
     "text": [
      "Enter a numberyh\n",
      "invalid literal for int() with base 10: 'yh'\n",
      "Enter correct number\n"
     ]
    }
   ],
   "source": [
    "num1=(input(\"Enter a number\"))\n",
    "\n",
    "try:\n",
    "    \n",
    "    num2=int(num1)\n",
    "    print(num2)\n",
    "    \n",
    "except Exception as e:\n",
    "    print(e)\n",
    "    print(\"Enter correct number\")"
   ]
  },
  {
   "cell_type": "code",
   "execution_count": 20,
   "id": "45e5b752",
   "metadata": {},
   "outputs": [
    {
     "name": "stdout",
     "output_type": "stream",
     "text": [
      "Please enter a numberyh\n",
      "Outside of try-except clauses. This statement is always executed.\n"
     ]
    }
   ],
   "source": [
    "num1 = input(\"Please enter a number\")\n",
    "try:\n",
    "    num2 = int(num1)\n",
    "    print(num2)\n",
    "except:\n",
    "    pass                                                                        ## it wil continue the code \n",
    "print(\"Outside of try-except clauses. This statement is always executed.\")"
   ]
  },
  {
   "cell_type": "code",
   "execution_count": 23,
   "id": "18d6a134",
   "metadata": {},
   "outputs": [
    {
     "name": "stdout",
     "output_type": "stream",
     "text": [
      "Please enter a number: 0.7\n",
      "Please enter the correct input\n"
     ]
    }
   ],
   "source": [
    "num1 = input(\"Please enter a number: \")\n",
    "try:\n",
    "    num2 = int(num1)\n",
    "    print(num2)\n",
    "\n",
    "except Exception:\n",
    "    print(\"Please enter the correct input\")"
   ]
  },
  {
   "cell_type": "code",
   "execution_count": 24,
   "id": "cf2506c2",
   "metadata": {},
   "outputs": [
    {
     "name": "stdout",
     "output_type": "stream",
     "text": [
      "Please enter a number: uj\n",
      "Exception: invalid literal for int() with base 10: 'uj'\n",
      "Please enter the correct input\n"
     ]
    }
   ],
   "source": [
    "num1 = input(\"Please enter a number: \")\n",
    "\n",
    "try:\n",
    "    num2 = int(num1)\n",
    "    print(num2)\n",
    "\n",
    "except ValueError as e:\n",
    "    print(\"Exception:\", e)\n",
    "    print(\"Please enter the correct input\")\n"
   ]
  },
  {
   "cell_type": "raw",
   "id": "9b6b2493",
   "metadata": {},
   "source": [
    "try:\n",
    "    # statements in try clause\n",
    "\n",
    "except ValueError:\n",
    "    # handles ValueError exceptions\n",
    "\n",
    "except NameError:\n",
    "    # handles NameError exceptions\n",
    "\n",
    "except IndexError:\n",
    "    # handles IndexError exception"
   ]
  },
  {
   "cell_type": "code",
   "execution_count": 28,
   "id": "843b8253",
   "metadata": {},
   "outputs": [
    {
     "name": "stdout",
     "output_type": "stream",
     "text": [
      "Please enter a number : 9\n",
      "1.1111111111111112\n"
     ]
    }
   ],
   "source": [
    "num1 = input(\"Please enter a number : \")\n",
    "\n",
    "try:\n",
    "    num2 = int(num1)\n",
    "    num3 = 10/num2\n",
    "    print(num3)\n",
    "\n",
    "except ValueError:\n",
    "    print(\"Please enter a numeric value\")\n",
    "\n",
    "except ZeroDivisionError:\n",
    "    print(\"Please enter a non-zero value\")"
   ]
  },
  {
   "cell_type": "code",
   "execution_count": 32,
   "id": "823fdf73",
   "metadata": {},
   "outputs": [
    {
     "name": "stdout",
     "output_type": "stream",
     "text": [
      "Please enter a number : 4\n",
      "Some error occurred\n"
     ]
    }
   ],
   "source": [
    "num1 = input(\"Please enter a number : \")\n",
    "\n",
    "try:\n",
    "    num2 = int(num1)\n",
    "    num3 = 10/num2\n",
    "    print(num4)            #here we write num4 instead of num3\n",
    "\n",
    "\n",
    "except ValueError:\n",
    "    print(\"Please enter a numeric value\")\n",
    "    \n",
    "except ZeroDivisionError:\n",
    "    print(\"Please enter a non-zero value\")\n",
    "\n",
    "except:\n",
    "    print(\"Some error occurred\")"
   ]
  },
  {
   "cell_type": "code",
   "execution_count": 38,
   "id": "9e799fd5",
   "metadata": {},
   "outputs": [
    {
     "name": "stdout",
     "output_type": "stream",
     "text": [
      "Please enter a number: 78\n",
      "Some error in the code!\n"
     ]
    }
   ],
   "source": [
    "num1 = input(\"Please enter a number: \")\n",
    "\n",
    "try:\n",
    "    num2 = int(num1)\n",
    "    num3 = 10/num2\n",
    "    print(num4)                    #here we write num4 instead of num3\n",
    "\n",
    "except ValueError:\n",
    "    print(\"Please enter a numeric value\")\n",
    "\n",
    "except ZeroDivisionError:\n",
    "    print(\"Please enter a non-zero value\")\n",
    "\n",
    "except (IndexError, NameError):\n",
    "    print(\"Some error in the code!\")\n",
    "\n",
    "except:\n",
    "    print(\"Some error occurred\")"
   ]
  },
  {
   "cell_type": "code",
   "execution_count": 41,
   "id": "5e38aaef",
   "metadata": {},
   "outputs": [
    {
     "name": "stdout",
     "output_type": "stream",
     "text": [
      "Please enter a number6\n",
      "1.6666666666666667\n",
      "Outside of try-except clauses. This statement is always executed.\n"
     ]
    }
   ],
   "source": [
    "num1 = input(\"Please enter a number\")\n",
    "try:\n",
    "    num2 = int(num1)\n",
    "    num3 = 10/num2\n",
    "\n",
    "except ValueError:\n",
    "    print(\"Please enter a numeric value\")\n",
    "\n",
    "except ZeroDivisionError:\n",
    "    print(\"Please enter a non-zero value\")\n",
    "\n",
    "except:\n",
    "    print(\"Some error occurred\")\n",
    "\n",
    "else:\n",
    "    print(num3)\n",
    "\n",
    "print(\"Outside of try-except clauses. This statement is always executed.\")"
   ]
  },
  {
   "cell_type": "raw",
   "id": "c2f9b837",
   "metadata": {},
   "source": [
    " try:\n",
    "  # statements in try clause\n",
    "except:\n",
    "    # statements in except clause (executed when exception thrown in try clause)\n",
    "else:\n",
    "    # statements in else clause (executed when no exception thrown in try clause)\n",
    "finally:\n",
    "    # statements in finally clause (always executed)"
   ]
  },
  {
   "cell_type": "code",
   "execution_count": 60,
   "id": "b27e27c7",
   "metadata": {},
   "outputs": [
    {
     "name": "stdout",
     "output_type": "stream",
     "text": [
      "Enter a number9999\n",
      "Enter second numberu\n",
      "invalid literal for int() with base 10: 'u'\n",
      "Change the input\n"
     ]
    }
   ],
   "source": [
    "try:\n",
    "    \n",
    "    a=int(input(\"Enter a number\"))\n",
    "    b=int(input(\"Enter second number\"))\n",
    "    c=int(a/b)\n",
    "    print(c)\n",
    "\n",
    "except ValueError as v:\n",
    "    print(v)\n",
    "    print(\"Change the input\")\n",
    "    \n",
    "except ZeroDivisionError as z:\n",
    "    print(z)\n",
    "    print(\"Change the value,don't divide by zero\")\n",
    "\n",
    "except NameError as n:\n",
    "    print(n)\n",
    "    print(\"Change the output\")\n",
    "except:\n",
    "    (\"Some other error\")\n",
    "\n",
    "else:\n",
    "    print(\"Some other error\")\n",
    "    \n",
    "finally:\n",
    "    (\"I am in final block\")\n"
   ]
  },
  {
   "cell_type": "markdown",
   "id": "3fb0bdc0",
   "metadata": {},
   "source": [
    "## Python raising an exception"
   ]
  },
  {
   "cell_type": "code",
   "execution_count": 65,
   "id": "84809b46",
   "metadata": {},
   "outputs": [
    {
     "name": "stdout",
     "output_type": "stream",
     "text": [
      "Enter your roll no54\n",
      "Your roll number is correct\n",
      "Out of try except block\n"
     ]
    }
   ],
   "source": [
    "try:\n",
    "    \n",
    "    roll_num=int(input(\"Enter your roll no\"))\n",
    "    if roll_num<=0:\n",
    "        raise ValueError(\"Enter a positive number,roll number will not be zero or negative.\")\n",
    "        \n",
    "    if roll_num>65:\n",
    "        raise ValueError(\"Roll number is smaller than 65\")\n",
    "      \n",
    "    \n",
    "except ValueError as v:\n",
    "    print(v)\n",
    "    \n",
    "else:\n",
    "    print(\"Your roll number is correct\")\n",
    "\n",
    "    \n",
    "\n",
    "print(\"Out of try except block\")\n",
    "    "
   ]
  },
  {
   "cell_type": "code",
   "execution_count": 67,
   "id": "f7b42ed0",
   "metadata": {},
   "outputs": [
    {
     "name": "stdout",
     "output_type": "stream",
     "text": [
      "Please enter your roll number-1\n",
      "ValueError Exception thrown\n",
      "The number entered is not positive\n",
      "Outside of try-except clauses.\n"
     ]
    }
   ],
   "source": [
    "try:\n",
    "    roll = int(input(\"Please enter your roll number\"))\n",
    "    if roll <= 0:\n",
    "        raise ValueError(\"The number entered is not positive\")\n",
    "\n",
    "except ValueError as v:\n",
    "    print(\"ValueError Exception thrown\")\n",
    "    print(v)\n",
    "\n",
    "print(\"Outside of try-except clauses.\")"
   ]
  },
  {
   "cell_type": "code",
   "execution_count": null,
   "id": "fb72342d",
   "metadata": {},
   "outputs": [],
   "source": []
  }
 ],
 "metadata": {
  "kernelspec": {
   "display_name": "Python 3 (ipykernel)",
   "language": "python",
   "name": "python3"
  },
  "language_info": {
   "codemirror_mode": {
    "name": "ipython",
    "version": 3
   },
   "file_extension": ".py",
   "mimetype": "text/x-python",
   "name": "python",
   "nbconvert_exporter": "python",
   "pygments_lexer": "ipython3",
   "version": "3.10.9"
  }
 },
 "nbformat": 4,
 "nbformat_minor": 5
}
