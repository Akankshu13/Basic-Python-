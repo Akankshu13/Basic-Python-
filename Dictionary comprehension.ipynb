{
 "cells": [
  {
   "cell_type": "markdown",
   "id": "7e683493",
   "metadata": {},
   "source": [
    "# Dictionary comprehension\n",
    "\n",
    "\n",
    "dictionary comprehension shortens the process of dictionary initialization by a lot. It makes the code more pythonic.\n",
    "\n",
    "Using dictionary comprehension in our code can shorten the lines of code while keeping the logic intact.\n"
   ]
  },
  {
   "cell_type": "markdown",
   "id": "395f3509",
   "metadata": {},
   "source": [
    "## We must be careful while using them as :\n",
    "\n",
    "They can sometimes make the code run slower and consume more memory.\n",
    "\n",
    "They can also decrease the readability of the code.\n",
    "\n",
    "We must not try to fit a difficult logic or a large number of dictionary comprehension inside them just for the sake of making the code single lined. In these cases, It is better to choose other alternatives like loops."
   ]
  },
  {
   "cell_type": "code",
   "execution_count": 5,
   "id": "d79ecefc",
   "metadata": {},
   "outputs": [
    {
     "name": "stdout",
     "output_type": "stream",
     "text": [
      "100\n",
      "45\n"
     ]
    }
   ],
   "source": [
    "fruits = {'apple' : 100 , 'banana' : 45}\n",
    "\n",
    "for i in fruits:\n",
    "    \n",
    "    print (fruits[i])"
   ]
  },
  {
   "cell_type": "code",
   "execution_count": 14,
   "id": "97500f20",
   "metadata": {},
   "outputs": [
    {
     "name": "stdout",
     "output_type": "stream",
     "text": [
      "{'apple': 120, 'banana': 65}\n"
     ]
    }
   ],
   "source": [
    "fruits = {'apple' : 100 , 'banana' : 45}\n",
    "\n",
    "for i in fruits:\n",
    "    fruits[i] = fruits[i] + 20\n",
    "print(fruits)"
   ]
  },
  {
   "cell_type": "code",
   "execution_count": 19,
   "id": "dd8cec14",
   "metadata": {},
   "outputs": [
    {
     "name": "stdout",
     "output_type": "stream",
     "text": [
      "100\n",
      "45\n"
     ]
    }
   ],
   "source": [
    "fruits = {'apple' : 100 , 'banana' : 45}\n",
    "for i,j in fruits.items():   #here i iterate keys means apple,banana and j iterate values means 100,45\n",
    "    print(j)"
   ]
  },
  {
   "cell_type": "code",
   "execution_count": 18,
   "id": "801c9cc1",
   "metadata": {},
   "outputs": [
    {
     "name": "stdout",
     "output_type": "stream",
     "text": [
      "100\n"
     ]
    }
   ],
   "source": [
    "fruits = {'apple' : 100 , 'banana' : 45}\n",
    "for i,j in fruits.items():         #here i iterate keys means apple,banana and j iterate values means 100,45\n",
    "    if j > 60:                      \n",
    "        print(fruits[i])"
   ]
  },
  {
   "cell_type": "code",
   "execution_count": 20,
   "id": "d34947b9",
   "metadata": {},
   "outputs": [],
   "source": [
    "# do it with comprehension \n",
    "# syntax if only for loop \n",
    "# {result forloop}"
   ]
  },
  {
   "cell_type": "code",
   "execution_count": 21,
   "id": "43b47f3b",
   "metadata": {},
   "outputs": [
    {
     "name": "stdout",
     "output_type": "stream",
     "text": [
      "{'apple': 120, 'banana': 65}\n"
     ]
    }
   ],
   "source": [
    "fruits = {'apple' : 100 , 'banana' : 45}\n",
    "a = {i:j+20 for i,j in fruits.items()}\n",
    "print(a)"
   ]
  },
  {
   "cell_type": "code",
   "execution_count": 22,
   "id": "bfd14f80",
   "metadata": {},
   "outputs": [
    {
     "name": "stdout",
     "output_type": "stream",
     "text": [
      "{1: 1, 2: 8, 3: 27}\n"
     ]
    }
   ],
   "source": [
    "## i need my output like = {1 : 1 , 2 : 8 , 3 : 27}\n",
    "## with out dictionary comprehesion\n",
    "\n",
    "a={}                              #here we create a blank dictionary\n",
    "for i in range(1,4):              #1,2,3\n",
    "    a[i]=i**3                     \n",
    "print(a)"
   ]
  },
  {
   "cell_type": "code",
   "execution_count": 23,
   "id": "54315c65",
   "metadata": {},
   "outputs": [
    {
     "name": "stdout",
     "output_type": "stream",
     "text": [
      "{1: 1, 2: 8, 3: 27}\n"
     ]
    }
   ],
   "source": [
    "## with dictionary comprehesion\n",
    "\n",
    "sov={i:i**3 for i in range(1,4)}\n",
    "print(sov)\n"
   ]
  },
  {
   "cell_type": "code",
   "execution_count": 24,
   "id": "0ecab6de",
   "metadata": {},
   "outputs": [
    {
     "name": "stdout",
     "output_type": "stream",
     "text": [
      "{1: 1, 2: 8, 3: 27, 4: 64, 5: 125, 6: 216, 7: 343, 8: 512, 9: 729, 10: 1000}\n"
     ]
    }
   ],
   "source": [
    "#cube without dictionary comprehesion\n",
    "\n",
    "\n",
    "cube={}\n",
    "\n",
    "for i in range(1,11):\n",
    "    cube[i]=i**3\n",
    "print(cube)\n",
    "    "
   ]
  },
  {
   "cell_type": "code",
   "execution_count": 25,
   "id": "6b4a0d1a",
   "metadata": {},
   "outputs": [
    {
     "name": "stdout",
     "output_type": "stream",
     "text": [
      "{1: 1, 2: 8, 3: 27, 4: 64, 5: 125, 6: 216, 7: 343, 8: 512, 9: 729, 10: 1000}\n"
     ]
    }
   ],
   "source": [
    "# cube with dictionary comprehesion\n",
    "\n",
    "sov={i:i**3 for i in range(1,11)}\n",
    "print(sov)"
   ]
  },
  {
   "cell_type": "code",
   "execution_count": 26,
   "id": "f848f437",
   "metadata": {},
   "outputs": [
    {
     "name": "stdout",
     "output_type": "stream",
     "text": [
      "{'mango': 80, 'banana': 20, 'cherry': 40}\n"
     ]
    }
   ],
   "source": [
    "#multiply the value of values by 2 with out dictionary comprehesion\n",
    "\n",
    "fruits = {'mango': 40, 'banana': 10, 'cherry': 20}\n",
    "new_fruits = {}\n",
    "\n",
    "for i, j in fruits.items():   #i iterate values and j iterate keys and fruits.items means keys and values both\n",
    "    new_fruits[i]=j*2\n",
    "\n",
    "    \n",
    "print(new_fruits)\n",
    "    "
   ]
  },
  {
   "cell_type": "code",
   "execution_count": 27,
   "id": "9f8f6e21",
   "metadata": {},
   "outputs": [
    {
     "name": "stdout",
     "output_type": "stream",
     "text": [
      "{'mango': 80, 'banana': 20, 'cherry': 40}\n"
     ]
    }
   ],
   "source": [
    "#multiply the value of values by 2 with dictionary comprehesion\n",
    "\n",
    "sol={i:j*2 for (i,j) in fruits.items()}\n",
    "print(sol)"
   ]
  },
  {
   "cell_type": "markdown",
   "id": "a13a10d2",
   "metadata": {},
   "source": [
    "# For loop if Condition\n",
    "\n",
    "\n",
    "##Syntax:\n",
    "\n",
    "new_dictionary = {key: value for_loop if condition}"
   ]
  },
  {
   "cell_type": "code",
   "execution_count": 28,
   "id": "dc5b0b1e",
   "metadata": {},
   "outputs": [
    {
     "name": "stdout",
     "output_type": "stream",
     "text": [
      "{'mango': 80, 'cherry': 40}\n"
     ]
    }
   ],
   "source": [
    "fruits = {'mango': 40, 'banana': 10, 'cherry': 20}\n",
    "\n",
    "new_fruits = {i: j*2 for (i,j) in fruits.items() if j > 15}\n",
    "print(new_fruits)"
   ]
  },
  {
   "cell_type": "markdown",
   "id": "3f3b9c4b",
   "metadata": {},
   "source": [
    "# For Loop if else Condition\n",
    "\n",
    "Syntax\n",
    "\n",
    "#new_list = {key: (value1 if condition else value2) for_loop} "
   ]
  },
  {
   "cell_type": "code",
   "execution_count": 30,
   "id": "9344bf90",
   "metadata": {},
   "outputs": [
    {
     "name": "stdout",
     "output_type": "stream",
     "text": [
      "{'ashu': 'Pass', 'mahesh': 'Pass', 'ashwini': 'Fail', 'asha': 'Pass'}\n"
     ]
    }
   ],
   "source": [
    "result = {\"ashu\": 45, \"mahesh\": 70, \"ashwini\": 32, \"asha\": 65}\n",
    "new_result = {}                        #create a empty dictonary\n",
    "\n",
    "for name, marks in result.items():       #name iterate name, marks iterate marks\n",
    "                                          #if condition satisfied then we add the name of student with pass \n",
    "    if marks >= 40:\n",
    "        new_result[name] = \"Pass\"\n",
    "    else:                                  #if condition not satisfied then we add the name of student with Fail\n",
    "        new_result[name] = \"Fail\"\n",
    "\n",
    "print(new_result)"
   ]
  },
  {
   "cell_type": "code",
   "execution_count": 31,
   "id": "67abe0d9",
   "metadata": {},
   "outputs": [
    {
     "name": "stdout",
     "output_type": "stream",
     "text": [
      "{'ashu': 'Pass', 'Mark': 'Pass', 'ashwini': 'Fail', 'asha': 'Pass'}\n"
     ]
    }
   ],
   "source": [
    "result = {\"ashu\": 45, \"Mark\": 70, \"ashwini\": 32, \"asha\": 65} # nano seconds \n",
    "\n",
    "new_result = {name: (\"Pass\" if marks >= 40 else \"Fail\") for (name, marks) in result.items()}\n",
    "print(new_result)"
   ]
  },
  {
   "cell_type": "code",
   "execution_count": null,
   "id": "9b6a9f12",
   "metadata": {},
   "outputs": [],
   "source": []
  }
 ],
 "metadata": {
  "kernelspec": {
   "display_name": "Python 3 (ipykernel)",
   "language": "python",
   "name": "python3"
  },
  "language_info": {
   "codemirror_mode": {
    "name": "ipython",
    "version": 3
   },
   "file_extension": ".py",
   "mimetype": "text/x-python",
   "name": "python",
   "nbconvert_exporter": "python",
   "pygments_lexer": "ipython3",
   "version": "3.10.9"
  }
 },
 "nbformat": 4,
 "nbformat_minor": 5
}
